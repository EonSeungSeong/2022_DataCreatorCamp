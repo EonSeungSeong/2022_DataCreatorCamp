{
 "cells": [
  {
   "cell_type": "markdown",
   "metadata": {
    "id": "QOuwET5_7Ydp"
   },
   "source": [
    "# **Mission #1**"
   ]
  },
  {
   "cell_type": "code",
   "execution_count": 2,
   "metadata": {
    "id": "oqAWA2oM5OZ_"
   },
   "outputs": [],
   "source": [
    "import tensorflow as tf\n",
    "import pandas as pd\n",
    "import numpy as np\n",
    "import matplotlib.pyplot as plt\n",
    "import glob\n",
    "import os\n",
    "from PIL import Image\n",
    "import cv2\n",
    "import seaborn as sns"
   ]
  },
  {
   "cell_type": "markdown",
   "metadata": {
    "id": "egXMfGXr44H-"
   },
   "source": [
    "### 1. EDA수행 (10)"
   ]
  },
  {
   "cell_type": "code",
   "execution_count": 3,
   "metadata": {
    "id": "HbyS5WPF44V3"
   },
   "outputs": [
    {
     "name": "stdout",
     "output_type": "stream",
     "text": [
      "20\n"
     ]
    }
   ],
   "source": [
    "img_dir = '/Users/User/303/creator_camp/'\n",
    "categoris = os.listdir(img_dir)\n",
    "nb_categoris = len(categoris)\n",
    "print(nb_categoris)"
   ]
  },
  {
   "cell_type": "code",
   "execution_count": 4,
   "metadata": {
    "colab": {
     "base_uri": "https://localhost:8080/"
    },
    "id": "IVPFqtPt44p-",
    "outputId": "9f3bbf70-84fd-4b66-bd40-bff12041d924"
   },
   "outputs": [
    {
     "name": "stdout",
     "output_type": "stream",
     "text": [
      "L2_10 : 1893개\n",
      "L2_12 : 518개\n",
      "L2_15 : 1509개\n",
      "L2_20 : 410개\n",
      "L2_21 : 410개\n",
      "L2_24 : 782개\n",
      "L2_25 : 6189개\n",
      "L2_27 : 426개\n",
      "L2_3 : 595개\n",
      "L2_30 : 364개\n",
      "L2_33 : 6206개\n",
      "L2_34 : 419개\n",
      "L2_39 : 454개\n",
      "L2_40 : 180개\n",
      "L2_41 : 593개\n",
      "L2_44 : 547개\n",
      "L2_45 : 631개\n",
      "L2_46 : 2214개\n",
      "L2_50 : 781개\n",
      "L2_52 : 382개\n",
      "클래스의 개수는 20개 입니다\n",
      "전체 데이터 개수는 25503개 입니다.\n"
     ]
    }
   ],
   "source": [
    "import os\n",
    "#img_dir = './drive/MyDrive/data/'\n",
    "categoris = os.listdir(img_dir)\n",
    "image_total=0\n",
    "count_list=[]\n",
    "\n",
    "def folder_image_count(path):\n",
    "    image_count = os.listdir(path)\n",
    "    return len(image_count)\n",
    "\n",
    "for i in range(nb_categoris):\n",
    "    count=folder_image_count(img_dir+categoris[i])\n",
    "    print(\"{0} : {1}개\".format(categoris[i],count))\n",
    "    image_total+=count\n",
    "    count_list.append(count)\n",
    "print(\"클래스의 개수는 {0}개 입니다\".format(nb_categoris))\n",
    "print(\"전체 데이터 개수는 {0}개 입니다.\".format(image_total))"
   ]
  },
  {
   "cell_type": "code",
   "execution_count": 5,
   "metadata": {
    "id": "w_ImTqmJ94sS"
   },
   "outputs": [],
   "source": [
    "import math\n",
    "percent_list=[]\n",
    "for i in range(nb_categoris):\n",
    "  percent=count_list[i] / image_total * 100\n",
    "  percent=round(percent,3)\n",
    "  percent_list.append(percent)"
   ]
  },
  {
   "cell_type": "code",
   "execution_count": 6,
   "metadata": {
    "colab": {
     "base_uri": "https://localhost:8080/"
    },
    "id": "IIf3Lowd44yQ",
    "outputId": "e54b2c89-b304-46fa-c005-e4b7fa397e47"
   },
   "outputs": [
    {
     "name": "stdout",
     "output_type": "stream",
     "text": [
      "[1893, 518, 1509, 410, 410, 782, 6189, 426, 595, 364, 6206, 419, 454, 180, 593, 547, 631, 2214, 781, 382]\n"
     ]
    }
   ],
   "source": [
    "print(count_list)"
   ]
  },
  {
   "cell_type": "code",
   "execution_count": 7,
   "metadata": {
    "colab": {
     "base_uri": "https://localhost:8080/"
    },
    "id": "b7irKrjx447J",
    "outputId": "d471e555-6462-4e29-d7c3-1297fea42a18"
   },
   "outputs": [
    {
     "name": "stdout",
     "output_type": "stream",
     "text": [
      "['L2_10', 'L2_12', 'L2_15', 'L2_20', 'L2_21', 'L2_24', 'L2_25', 'L2_27', 'L2_3', 'L2_30', 'L2_33', 'L2_34', 'L2_39', 'L2_40', 'L2_41', 'L2_44', 'L2_45', 'L2_46', 'L2_50', 'L2_52']\n"
     ]
    }
   ],
   "source": [
    "print(categoris)"
   ]
  },
  {
   "cell_type": "code",
   "execution_count": 8,
   "metadata": {
    "colab": {
     "base_uri": "https://localhost:8080/",
     "height": 143
    },
    "id": "xgIFs15C45Ef",
    "outputId": "7565f1bc-4063-4b87-9281-3fcfb97b5ad4"
   },
   "outputs": [
    {
     "data": {
      "text/html": [
       "<div>\n",
       "<style scoped>\n",
       "    .dataframe tbody tr th:only-of-type {\n",
       "        vertical-align: middle;\n",
       "    }\n",
       "\n",
       "    .dataframe tbody tr th {\n",
       "        vertical-align: top;\n",
       "    }\n",
       "\n",
       "    .dataframe thead th {\n",
       "        text-align: right;\n",
       "    }\n",
       "</style>\n",
       "<table border=\"1\" class=\"dataframe\">\n",
       "  <thead>\n",
       "    <tr style=\"text-align: right;\">\n",
       "      <th></th>\n",
       "      <th>0</th>\n",
       "      <th>1</th>\n",
       "      <th>2</th>\n",
       "      <th>3</th>\n",
       "      <th>4</th>\n",
       "      <th>5</th>\n",
       "      <th>6</th>\n",
       "      <th>7</th>\n",
       "      <th>8</th>\n",
       "      <th>9</th>\n",
       "      <th>10</th>\n",
       "      <th>11</th>\n",
       "      <th>12</th>\n",
       "      <th>13</th>\n",
       "      <th>14</th>\n",
       "      <th>15</th>\n",
       "      <th>16</th>\n",
       "      <th>17</th>\n",
       "      <th>18</th>\n",
       "      <th>19</th>\n",
       "    </tr>\n",
       "  </thead>\n",
       "  <tbody>\n",
       "    <tr>\n",
       "      <th>Category</th>\n",
       "      <td>L2_10</td>\n",
       "      <td>L2_12</td>\n",
       "      <td>L2_15</td>\n",
       "      <td>L2_20</td>\n",
       "      <td>L2_21</td>\n",
       "      <td>L2_24</td>\n",
       "      <td>L2_25</td>\n",
       "      <td>L2_27</td>\n",
       "      <td>L2_3</td>\n",
       "      <td>L2_30</td>\n",
       "      <td>L2_33</td>\n",
       "      <td>L2_34</td>\n",
       "      <td>L2_39</td>\n",
       "      <td>L2_40</td>\n",
       "      <td>L2_41</td>\n",
       "      <td>L2_44</td>\n",
       "      <td>L2_45</td>\n",
       "      <td>L2_46</td>\n",
       "      <td>L2_50</td>\n",
       "      <td>L2_52</td>\n",
       "    </tr>\n",
       "    <tr>\n",
       "      <th>Count</th>\n",
       "      <td>1893</td>\n",
       "      <td>518</td>\n",
       "      <td>1509</td>\n",
       "      <td>410</td>\n",
       "      <td>410</td>\n",
       "      <td>782</td>\n",
       "      <td>6189</td>\n",
       "      <td>426</td>\n",
       "      <td>595</td>\n",
       "      <td>364</td>\n",
       "      <td>6206</td>\n",
       "      <td>419</td>\n",
       "      <td>454</td>\n",
       "      <td>180</td>\n",
       "      <td>593</td>\n",
       "      <td>547</td>\n",
       "      <td>631</td>\n",
       "      <td>2214</td>\n",
       "      <td>781</td>\n",
       "      <td>382</td>\n",
       "    </tr>\n",
       "    <tr>\n",
       "      <th>Percent</th>\n",
       "      <td>7.423</td>\n",
       "      <td>2.031</td>\n",
       "      <td>5.917</td>\n",
       "      <td>1.608</td>\n",
       "      <td>1.608</td>\n",
       "      <td>3.066</td>\n",
       "      <td>24.268</td>\n",
       "      <td>1.67</td>\n",
       "      <td>2.333</td>\n",
       "      <td>1.427</td>\n",
       "      <td>24.334</td>\n",
       "      <td>1.643</td>\n",
       "      <td>1.78</td>\n",
       "      <td>0.706</td>\n",
       "      <td>2.325</td>\n",
       "      <td>2.145</td>\n",
       "      <td>2.474</td>\n",
       "      <td>8.681</td>\n",
       "      <td>3.062</td>\n",
       "      <td>1.498</td>\n",
       "    </tr>\n",
       "  </tbody>\n",
       "</table>\n",
       "</div>"
      ],
      "text/plain": [
       "             0      1      2      3      4      5       6      7      8   \\\n",
       "Category  L2_10  L2_12  L2_15  L2_20  L2_21  L2_24   L2_25  L2_27   L2_3   \n",
       "Count      1893    518   1509    410    410    782    6189    426    595   \n",
       "Percent   7.423  2.031  5.917  1.608  1.608  3.066  24.268   1.67  2.333   \n",
       "\n",
       "             9       10     11     12     13     14     15     16     17  \\\n",
       "Category  L2_30   L2_33  L2_34  L2_39  L2_40  L2_41  L2_44  L2_45  L2_46   \n",
       "Count       364    6206    419    454    180    593    547    631   2214   \n",
       "Percent   1.427  24.334  1.643   1.78  0.706  2.325  2.145  2.474  8.681   \n",
       "\n",
       "             18     19  \n",
       "Category  L2_50  L2_52  \n",
       "Count       781    382  \n",
       "Percent   3.062  1.498  "
      ]
     },
     "execution_count": 8,
     "metadata": {},
     "output_type": "execute_result"
    }
   ],
   "source": [
    "dataframe=pd.DataFrame({\"Category\":categoris,\n",
    "                      \"Count\": count_list,\n",
    "                      \"Percent\": percent_list} )\n",
    "dataframe.T"
   ]
  },
  {
   "cell_type": "code",
   "execution_count": 9,
   "metadata": {
    "colab": {
     "base_uri": "https://localhost:8080/",
     "height": 300
    },
    "id": "xXR2nnHACDgs",
    "outputId": "978bf0d9-6948-4115-9740-3d9f1b5503f0"
   },
   "outputs": [
    {
     "data": {
      "text/html": [
       "<div>\n",
       "<style scoped>\n",
       "    .dataframe tbody tr th:only-of-type {\n",
       "        vertical-align: middle;\n",
       "    }\n",
       "\n",
       "    .dataframe tbody tr th {\n",
       "        vertical-align: top;\n",
       "    }\n",
       "\n",
       "    .dataframe thead th {\n",
       "        text-align: right;\n",
       "    }\n",
       "</style>\n",
       "<table border=\"1\" class=\"dataframe\">\n",
       "  <thead>\n",
       "    <tr style=\"text-align: right;\">\n",
       "      <th></th>\n",
       "      <th>Count</th>\n",
       "      <th>Percent</th>\n",
       "    </tr>\n",
       "  </thead>\n",
       "  <tbody>\n",
       "    <tr>\n",
       "      <th>count</th>\n",
       "      <td>20.000000</td>\n",
       "      <td>20.00000</td>\n",
       "    </tr>\n",
       "    <tr>\n",
       "      <th>mean</th>\n",
       "      <td>1275.150000</td>\n",
       "      <td>4.99995</td>\n",
       "    </tr>\n",
       "    <tr>\n",
       "      <th>std</th>\n",
       "      <td>1764.613549</td>\n",
       "      <td>6.91923</td>\n",
       "    </tr>\n",
       "    <tr>\n",
       "      <th>min</th>\n",
       "      <td>180.000000</td>\n",
       "      <td>0.70600</td>\n",
       "    </tr>\n",
       "    <tr>\n",
       "      <th>25%</th>\n",
       "      <td>416.750000</td>\n",
       "      <td>1.63425</td>\n",
       "    </tr>\n",
       "    <tr>\n",
       "      <th>50%</th>\n",
       "      <td>570.000000</td>\n",
       "      <td>2.23500</td>\n",
       "    </tr>\n",
       "    <tr>\n",
       "      <th>75%</th>\n",
       "      <td>963.750000</td>\n",
       "      <td>3.77875</td>\n",
       "    </tr>\n",
       "    <tr>\n",
       "      <th>max</th>\n",
       "      <td>6206.000000</td>\n",
       "      <td>24.33400</td>\n",
       "    </tr>\n",
       "  </tbody>\n",
       "</table>\n",
       "</div>"
      ],
      "text/plain": [
       "             Count   Percent\n",
       "count    20.000000  20.00000\n",
       "mean   1275.150000   4.99995\n",
       "std    1764.613549   6.91923\n",
       "min     180.000000   0.70600\n",
       "25%     416.750000   1.63425\n",
       "50%     570.000000   2.23500\n",
       "75%     963.750000   3.77875\n",
       "max    6206.000000  24.33400"
      ]
     },
     "execution_count": 9,
     "metadata": {},
     "output_type": "execute_result"
    }
   ],
   "source": [
    "dataframe.describe()"
   ]
  },
  {
   "cell_type": "code",
   "execution_count": 11,
   "metadata": {
    "colab": {
     "base_uri": "https://localhost:8080/",
     "height": 523
    },
    "id": "M1unKSmP45YH",
    "outputId": "3d33fa38-c085-4712-f342-9d260f92af87"
   },
   "outputs": [
    {
     "data": {
      "image/png": "[encoded data removed]",
      "text/plain": [
       "<Figure size 1080x576 with 1 Axes>"
      ]
     },
     "metadata": {},
     "output_type": "display_data"
    }
   ],
   "source": [
    "sns.set(rc={'figure.figsize':(15,8)})\n",
    "fig = sns.barplot(x='Category',y='Count',data=dataframe)\n",
    "plt.xticks(rotation=45)\n",
    "plt.show()"
   ]
  },
  {
   "cell_type": "code",
   "execution_count": 14,
   "metadata": {
    "id": "duzXFOjUc4Gd"
   },
   "outputs": [],
   "source": [
    "# import glob\n",
    "# #print(nb_categoris)\n",
    "# img_name_list=[] # 파일명 리스트\n",
    "# channel_list=[]  # 영상 채널 리스트\n",
    "# ext_list=[] # 확장자 리스트\n",
    "# width_list=[] # 영상 데이터 가로 길이\n",
    "# height_list=[] # 영상 데이터 세로 길이\n",
    "# cat_list=[] # 클래스\n",
    "# path_list=[] # 이미지 경로\n",
    "# for i in range(nb_categoris):\n",
    "#   a=glob.glob(img_dir+categoris[i]+'/*')\n",
    "#   for j in range(len(a)):\n",
    "#     cat_img_name= a[j].split('/')[-1:]\n",
    "#     temp=cat_img_name[0].split('\\\\')\n",
    "#     #print(temp)\n",
    "#     #print(cat_img_name)\n",
    "#     img_name=temp[-1]\n",
    "#     #print(img_name)\n",
    "#     cat=temp[0]\n",
    "#     #print(cat)\n",
    "#     ext=img_name.split('.')[-1]\n",
    "#     #print(cat)\n",
    "#     #print(img_name)\n",
    "#     #print(ext)\n",
    "#     img = cv2.imread(a[j], cv2.IMREAD_UNCHANGED) #cv2.IMREAD_UNCHANGED 해당 옵션이 있어야 채널값이 4인 데이터 분별 가능 \n",
    "#     if img.ndim ==2: # 흑백 이미지의 경우 채널값이 없는 2차원 배열이므로 조건문처리\n",
    "#       w, h = img.shape\n",
    "#       c=1\n",
    "#     else:\n",
    "#       w, h, c = img.shape\n",
    "#     cat_list.append(cat)\n",
    "#     img_name_list.append(img_name)\n",
    "#     ext_list.append(ext)\n",
    "#     width_list.append(w)\n",
    "#     height_list.append(h)\n",
    "#     channel_list.append(c)\n",
    "#     path_list.append(a[j])"
   ]
  },
  {
   "cell_type": "code",
   "execution_count": 15,
   "metadata": {
    "id": "zcapEa0kc33F"
   },
   "outputs": [],
   "source": [
    "# img_info=pd.DataFrame({\"IMG_ID\":img_name_list,\n",
    "#                        \"Category\": cat_list,\n",
    "#                       \"Extension\": ext_list,\n",
    "#                       \"Width\": width_list,\n",
    "#                       \"Height\": height_list,\n",
    "#                       \"Channel\": channel_list,\n",
    "#                        \"Path\": path_list} )\n",
    "# img_info"
   ]
  },
  {
   "cell_type": "code",
   "execution_count": 16,
   "metadata": {
    "id": "xRVlwfjSKtjf"
   },
   "outputs": [],
   "source": [
    "#img_info.to_csv('./img_info.csv',index=False)"
   ]
  },
  {
   "cell_type": "code",
   "execution_count": 17,
   "metadata": {
    "id": "OTIGVw7P5J2P"
   },
   "outputs": [],
   "source": [
    "img_info=pd.read_csv(\"./img_info.csv\")"
   ]
  },
  {
   "cell_type": "code",
   "execution_count": 18,
   "metadata": {
    "colab": {
     "base_uri": "https://localhost:8080/",
     "height": 424
    },
    "id": "D0pMBzQIvowL",
    "outputId": "b49d508b-5b1c-4b00-90a7-1b341d372d7e",
    "scrolled": false
   },
   "outputs": [
    {
     "data": {
      "text/html": [
       "<div>\n",
       "<style scoped>\n",
       "    .dataframe tbody tr th:only-of-type {\n",
       "        vertical-align: middle;\n",
       "    }\n",
       "\n",
       "    .dataframe tbody tr th {\n",
       "        vertical-align: top;\n",
       "    }\n",
       "\n",
       "    .dataframe thead th {\n",
       "        text-align: right;\n",
       "    }\n",
       "</style>\n",
       "<table border=\"1\" class=\"dataframe\">\n",
       "  <thead>\n",
       "    <tr style=\"text-align: right;\">\n",
       "      <th></th>\n",
       "      <th>IMG_ID</th>\n",
       "      <th>Category</th>\n",
       "      <th>Extension</th>\n",
       "      <th>Width</th>\n",
       "      <th>Height</th>\n",
       "      <th>Channel</th>\n",
       "      <th>Path</th>\n",
       "    </tr>\n",
       "  </thead>\n",
       "  <tbody>\n",
       "    <tr>\n",
       "      <th>0</th>\n",
       "      <td>aamhfbsxjoqkqsxnnpoy.jpg</td>\n",
       "      <td>L2_10</td>\n",
       "      <td>jpg</td>\n",
       "      <td>1200</td>\n",
       "      <td>1200</td>\n",
       "      <td>3</td>\n",
       "      <td>/Users/User/303/creator_camp/L2_10\\aamhfbsxjoq...</td>\n",
       "    </tr>\n",
       "    <tr>\n",
       "      <th>1</th>\n",
       "      <td>aatdcomdixgejmiibsft.jpg</td>\n",
       "      <td>L2_10</td>\n",
       "      <td>jpg</td>\n",
       "      <td>700</td>\n",
       "      <td>700</td>\n",
       "      <td>3</td>\n",
       "      <td>/Users/User/303/creator_camp/L2_10\\aatdcomdixg...</td>\n",
       "    </tr>\n",
       "    <tr>\n",
       "      <th>2</th>\n",
       "      <td>aatmmprdzkzdkbfcslkx.jpg</td>\n",
       "      <td>L2_10</td>\n",
       "      <td>jpg</td>\n",
       "      <td>700</td>\n",
       "      <td>700</td>\n",
       "      <td>3</td>\n",
       "      <td>/Users/User/303/creator_camp/L2_10\\aatmmprdzkz...</td>\n",
       "    </tr>\n",
       "    <tr>\n",
       "      <th>3</th>\n",
       "      <td>abaoovbyxzqodvhoasko.jpg</td>\n",
       "      <td>L2_10</td>\n",
       "      <td>jpg</td>\n",
       "      <td>2480</td>\n",
       "      <td>3508</td>\n",
       "      <td>3</td>\n",
       "      <td>/Users/User/303/creator_camp/L2_10\\abaoovbyxzq...</td>\n",
       "    </tr>\n",
       "    <tr>\n",
       "      <th>4</th>\n",
       "      <td>abymagsohyagiheolkhk.jpg</td>\n",
       "      <td>L2_10</td>\n",
       "      <td>jpg</td>\n",
       "      <td>700</td>\n",
       "      <td>700</td>\n",
       "      <td>3</td>\n",
       "      <td>/Users/User/303/creator_camp/L2_10\\abymagsohya...</td>\n",
       "    </tr>\n",
       "    <tr>\n",
       "      <th>...</th>\n",
       "      <td>...</td>\n",
       "      <td>...</td>\n",
       "      <td>...</td>\n",
       "      <td>...</td>\n",
       "      <td>...</td>\n",
       "      <td>...</td>\n",
       "      <td>...</td>\n",
       "    </tr>\n",
       "    <tr>\n",
       "      <th>25498</th>\n",
       "      <td>zslxpqgjoxxxnfcgaqbc.jpg</td>\n",
       "      <td>L2_52</td>\n",
       "      <td>jpg</td>\n",
       "      <td>700</td>\n",
       "      <td>700</td>\n",
       "      <td>3</td>\n",
       "      <td>/Users/User/303/creator_camp/L2_52\\zslxpqgjoxx...</td>\n",
       "    </tr>\n",
       "    <tr>\n",
       "      <th>25499</th>\n",
       "      <td>ztedlwqpolocumvrpkdt.png</td>\n",
       "      <td>L2_52</td>\n",
       "      <td>png</td>\n",
       "      <td>700</td>\n",
       "      <td>700</td>\n",
       "      <td>4</td>\n",
       "      <td>/Users/User/303/creator_camp/L2_52\\ztedlwqpolo...</td>\n",
       "    </tr>\n",
       "    <tr>\n",
       "      <th>25500</th>\n",
       "      <td>zukfkicrimhykqtrxkbe.png</td>\n",
       "      <td>L2_52</td>\n",
       "      <td>png</td>\n",
       "      <td>700</td>\n",
       "      <td>700</td>\n",
       "      <td>3</td>\n",
       "      <td>/Users/User/303/creator_camp/L2_52\\zukfkicrimh...</td>\n",
       "    </tr>\n",
       "    <tr>\n",
       "      <th>25501</th>\n",
       "      <td>zvpheaqohuqevixkjspd.jpg</td>\n",
       "      <td>L2_52</td>\n",
       "      <td>jpg</td>\n",
       "      <td>1200</td>\n",
       "      <td>1200</td>\n",
       "      <td>3</td>\n",
       "      <td>/Users/User/303/creator_camp/L2_52\\zvpheaqohuq...</td>\n",
       "    </tr>\n",
       "    <tr>\n",
       "      <th>25502</th>\n",
       "      <td>zwioxnzjuiufsjztftts.jpg</td>\n",
       "      <td>L2_52</td>\n",
       "      <td>jpg</td>\n",
       "      <td>300</td>\n",
       "      <td>300</td>\n",
       "      <td>3</td>\n",
       "      <td>/Users/User/303/creator_camp/L2_52\\zwioxnzjuiu...</td>\n",
       "    </tr>\n",
       "  </tbody>\n",
       "</table>\n",
       "<p>25503 rows × 7 columns</p>\n",
       "</div>"
      ],
      "text/plain": [
       "                         IMG_ID Category Extension  Width  Height  Channel  \\\n",
       "0      aamhfbsxjoqkqsxnnpoy.jpg    L2_10       jpg   1200    1200        3   \n",
       "1      aatdcomdixgejmiibsft.jpg    L2_10       jpg    700     700        3   \n",
       "2      aatmmprdzkzdkbfcslkx.jpg    L2_10       jpg    700     700        3   \n",
       "3      abaoovbyxzqodvhoasko.jpg    L2_10       jpg   2480    3508        3   \n",
       "4      abymagsohyagiheolkhk.jpg    L2_10       jpg    700     700        3   \n",
       "...                         ...      ...       ...    ...     ...      ...   \n",
       "25498  zslxpqgjoxxxnfcgaqbc.jpg    L2_52       jpg    700     700        3   \n",
       "25499  ztedlwqpolocumvrpkdt.png    L2_52       png    700     700        4   \n",
       "25500  zukfkicrimhykqtrxkbe.png    L2_52       png    700     700        3   \n",
       "25501  zvpheaqohuqevixkjspd.jpg    L2_52       jpg   1200    1200        3   \n",
       "25502  zwioxnzjuiufsjztftts.jpg    L2_52       jpg    300     300        3   \n",
       "\n",
       "                                                    Path  \n",
       "0      /Users/User/303/creator_camp/L2_10\\aamhfbsxjoq...  \n",
       "1      /Users/User/303/creator_camp/L2_10\\aatdcomdixg...  \n",
       "2      /Users/User/303/creator_camp/L2_10\\aatmmprdzkz...  \n",
       "3      /Users/User/303/creator_camp/L2_10\\abaoovbyxzq...  \n",
       "4      /Users/User/303/creator_camp/L2_10\\abymagsohya...  \n",
       "...                                                  ...  \n",
       "25498  /Users/User/303/creator_camp/L2_52\\zslxpqgjoxx...  \n",
       "25499  /Users/User/303/creator_camp/L2_52\\ztedlwqpolo...  \n",
       "25500  /Users/User/303/creator_camp/L2_52\\zukfkicrimh...  \n",
       "25501  /Users/User/303/creator_camp/L2_52\\zvpheaqohuq...  \n",
       "25502  /Users/User/303/creator_camp/L2_52\\zwioxnzjuiu...  \n",
       "\n",
       "[25503 rows x 7 columns]"
      ]
     },
     "execution_count": 18,
     "metadata": {},
     "output_type": "execute_result"
    }
   ],
   "source": [
    "img_info"
   ]
  },
  {
   "cell_type": "code",
   "execution_count": 19,
   "metadata": {
    "colab": {
     "base_uri": "https://localhost:8080/",
     "height": 206
    },
    "id": "kAIhmm-8uPQQ",
    "outputId": "8b4be7f4-d465-48b0-ca40-625822c54135"
   },
   "outputs": [
    {
     "data": {
      "text/html": [
       "<div>\n",
       "<style scoped>\n",
       "    .dataframe tbody tr th:only-of-type {\n",
       "        vertical-align: middle;\n",
       "    }\n",
       "\n",
       "    .dataframe tbody tr th {\n",
       "        vertical-align: top;\n",
       "    }\n",
       "\n",
       "    .dataframe thead th {\n",
       "        text-align: right;\n",
       "    }\n",
       "</style>\n",
       "<table border=\"1\" class=\"dataframe\">\n",
       "  <thead>\n",
       "    <tr style=\"text-align: right;\">\n",
       "      <th></th>\n",
       "      <th>IMG_ID</th>\n",
       "      <th>Category</th>\n",
       "      <th>Extension</th>\n",
       "      <th>Width</th>\n",
       "      <th>Height</th>\n",
       "      <th>Channel</th>\n",
       "      <th>Path</th>\n",
       "      <th>img</th>\n",
       "    </tr>\n",
       "  </thead>\n",
       "  <tbody>\n",
       "    <tr>\n",
       "      <th>0</th>\n",
       "      <td>aamhfbsxjoqkqsxnnpoy.jpg</td>\n",
       "      <td>L2_10</td>\n",
       "      <td>jpg</td>\n",
       "      <td>1200</td>\n",
       "      <td>1200</td>\n",
       "      <td>3</td>\n",
       "      <td>/Users/User/303/creator_camp/L2_10\\aamhfbsxjoq...</td>\n",
       "      <td>aamhfbsxjoqkqsxnnpoy</td>\n",
       "    </tr>\n",
       "    <tr>\n",
       "      <th>1</th>\n",
       "      <td>aatdcomdixgejmiibsft.jpg</td>\n",
       "      <td>L2_10</td>\n",
       "      <td>jpg</td>\n",
       "      <td>700</td>\n",
       "      <td>700</td>\n",
       "      <td>3</td>\n",
       "      <td>/Users/User/303/creator_camp/L2_10\\aatdcomdixg...</td>\n",
       "      <td>aatdcomdixgejmiibsft</td>\n",
       "    </tr>\n",
       "    <tr>\n",
       "      <th>2</th>\n",
       "      <td>aatmmprdzkzdkbfcslkx.jpg</td>\n",
       "      <td>L2_10</td>\n",
       "      <td>jpg</td>\n",
       "      <td>700</td>\n",
       "      <td>700</td>\n",
       "      <td>3</td>\n",
       "      <td>/Users/User/303/creator_camp/L2_10\\aatmmprdzkz...</td>\n",
       "      <td>aatmmprdzkzdkbfcslkx</td>\n",
       "    </tr>\n",
       "    <tr>\n",
       "      <th>3</th>\n",
       "      <td>abaoovbyxzqodvhoasko.jpg</td>\n",
       "      <td>L2_10</td>\n",
       "      <td>jpg</td>\n",
       "      <td>2480</td>\n",
       "      <td>3508</td>\n",
       "      <td>3</td>\n",
       "      <td>/Users/User/303/creator_camp/L2_10\\abaoovbyxzq...</td>\n",
       "      <td>abaoovbyxzqodvhoasko</td>\n",
       "    </tr>\n",
       "    <tr>\n",
       "      <th>4</th>\n",
       "      <td>abymagsohyagiheolkhk.jpg</td>\n",
       "      <td>L2_10</td>\n",
       "      <td>jpg</td>\n",
       "      <td>700</td>\n",
       "      <td>700</td>\n",
       "      <td>3</td>\n",
       "      <td>/Users/User/303/creator_camp/L2_10\\abymagsohya...</td>\n",
       "      <td>abymagsohyagiheolkhk</td>\n",
       "    </tr>\n",
       "  </tbody>\n",
       "</table>\n",
       "</div>"
      ],
      "text/plain": [
       "                     IMG_ID Category Extension  Width  Height  Channel  \\\n",
       "0  aamhfbsxjoqkqsxnnpoy.jpg    L2_10       jpg   1200    1200        3   \n",
       "1  aatdcomdixgejmiibsft.jpg    L2_10       jpg    700     700        3   \n",
       "2  aatmmprdzkzdkbfcslkx.jpg    L2_10       jpg    700     700        3   \n",
       "3  abaoovbyxzqodvhoasko.jpg    L2_10       jpg   2480    3508        3   \n",
       "4  abymagsohyagiheolkhk.jpg    L2_10       jpg    700     700        3   \n",
       "\n",
       "                                                Path                   img  \n",
       "0  /Users/User/303/creator_camp/L2_10\\aamhfbsxjoq...  aamhfbsxjoqkqsxnnpoy  \n",
       "1  /Users/User/303/creator_camp/L2_10\\aatdcomdixg...  aatdcomdixgejmiibsft  \n",
       "2  /Users/User/303/creator_camp/L2_10\\aatmmprdzkz...  aatmmprdzkzdkbfcslkx  \n",
       "3  /Users/User/303/creator_camp/L2_10\\abaoovbyxzq...  abaoovbyxzqodvhoasko  \n",
       "4  /Users/User/303/creator_camp/L2_10\\abymagsohya...  abymagsohyagiheolkhk  "
      ]
     },
     "execution_count": 19,
     "metadata": {},
     "output_type": "execute_result"
    }
   ],
   "source": [
    "img_info2=img_info\n",
    "\n",
    "img_info2['img']=img_info2.IMG_ID.str.split('.').str[0]\n",
    "img_info2.head()"
   ]
  },
  {
   "cell_type": "code",
   "execution_count": 21,
   "metadata": {
    "colab": {
     "base_uri": "https://localhost:8080/"
    },
    "id": "PSoeUOj6yJ5l",
    "outputId": "7a75055b-507c-4fad-bbc6-660f11751624"
   },
   "outputs": [
    {
     "name": "stdout",
     "output_type": "stream",
     "text": [
      "<class 'pandas.core.frame.DataFrame'>\n",
      "RangeIndex: 25503 entries, 0 to 25502\n",
      "Data columns (total 8 columns):\n",
      " #   Column     Non-Null Count  Dtype \n",
      "---  ------     --------------  ----- \n",
      " 0   IMG_ID     25503 non-null  object\n",
      " 1   Category   25503 non-null  object\n",
      " 2   Extension  25503 non-null  object\n",
      " 3   Width      25503 non-null  int64 \n",
      " 4   Height     25503 non-null  int64 \n",
      " 5   Channel    25503 non-null  int64 \n",
      " 6   Path       25503 non-null  object\n",
      " 7   img        25503 non-null  object\n",
      "dtypes: int64(3), object(5)\n",
      "memory usage: 1.6+ MB\n"
     ]
    }
   ],
   "source": [
    "img_info2.info()"
   ]
  },
  {
   "cell_type": "code",
   "execution_count": 22,
   "metadata": {
    "colab": {
     "base_uri": "https://localhost:8080/"
    },
    "id": "_JACtH-lyRb2",
    "outputId": "9b9b07c4-da5a-44dd-9be3-9d5703807bc8"
   },
   "outputs": [
    {
     "name": "stdout",
     "output_type": "stream",
     "text": [
      "<class 'pandas.core.frame.DataFrame'>\n",
      "Int64Index: 25503 entries, 0 to 25502\n",
      "Data columns (total 8 columns):\n",
      " #   Column     Non-Null Count  Dtype \n",
      "---  ------     --------------  ----- \n",
      " 0   IMG_ID     25503 non-null  object\n",
      " 1   Category   25503 non-null  object\n",
      " 2   Extension  25503 non-null  object\n",
      " 3   Width      25503 non-null  int64 \n",
      " 4   Height     25503 non-null  int64 \n",
      " 5   Channel    25503 non-null  int64 \n",
      " 6   Path       25503 non-null  object\n",
      " 7   img        25503 non-null  object\n",
      "dtypes: int64(3), object(5)\n",
      "memory usage: 1.8+ MB\n"
     ]
    }
   ],
   "source": [
    "#중복이미지 확인\n",
    "img_info2.drop_duplicates(['img'],inplace=True)\n",
    "img_info2.info()"
   ]
  },
  {
   "cell_type": "code",
   "execution_count": 24,
   "metadata": {
    "colab": {
     "base_uri": "https://localhost:8080/"
    },
    "id": "UIngaqcB1xn2",
    "outputId": "b8e0ec09-f65e-45f6-9d56-1d42c745633b"
   },
   "outputs": [
    {
     "data": {
      "text/plain": [
       "array([3, 4, 1], dtype=int64)"
      ]
     },
     "execution_count": 24,
     "metadata": {},
     "output_type": "execute_result"
    }
   ],
   "source": [
    "img_info.Channel.unique()"
   ]
  },
  {
   "cell_type": "code",
   "execution_count": 25,
   "metadata": {
    "colab": {
     "base_uri": "https://localhost:8080/"
    },
    "id": "rB2Wn7Zj2zSu",
    "outputId": "7475f40b-9070-46a3-808b-61b1f6b5fdb5"
   },
   "outputs": [
    {
     "data": {
      "text/plain": [
       "IMG_ID       0\n",
       "Category     0\n",
       "Extension    0\n",
       "Width        0\n",
       "Height       0\n",
       "Channel      0\n",
       "Path         0\n",
       "img          0\n",
       "dtype: int64"
      ]
     },
     "execution_count": 25,
     "metadata": {},
     "output_type": "execute_result"
    }
   ],
   "source": [
    "#결측값\n",
    "img_info.isnull().sum()"
   ]
  },
  {
   "cell_type": "code",
   "execution_count": 26,
   "metadata": {
    "colab": {
     "base_uri": "https://localhost:8080/"
    },
    "id": "0k9e8zhe0ZYv",
    "outputId": "fcfd504a-5c5e-420a-b025-6c1e56669d18",
    "scrolled": false
   },
   "outputs": [
    {
     "name": "stdout",
     "output_type": "stream",
     "text": [
      "Category\n",
      "L2_10    1893\n",
      "L2_12     518\n",
      "L2_15    1509\n",
      "L2_20     410\n",
      "L2_21     410\n",
      "L2_24     782\n",
      "L2_25    6189\n",
      "L2_27     426\n",
      "L2_3      595\n",
      "L2_30     364\n",
      "L2_33    6206\n",
      "L2_34     419\n",
      "L2_39     454\n",
      "L2_40     180\n",
      "L2_41     593\n",
      "L2_44     547\n",
      "L2_45     631\n",
      "L2_46    2214\n",
      "L2_50     781\n",
      "L2_52     382\n",
      "Name: IMG_ID, dtype: int64\n",
      "\n",
      "\n",
      "1275.15\n"
     ]
    }
   ],
   "source": [
    "# 클래스 별 데이터 개수 및 평균\n",
    "print(img_info.groupby(\"Category\")[\"IMG_ID\"].count())\n",
    "print('\\n')\n",
    "print(img_info.groupby(\"Category\")[\"IMG_ID\"].count().mean())"
   ]
  },
  {
   "cell_type": "code",
   "execution_count": 27,
   "metadata": {
    "colab": {
     "base_uri": "https://localhost:8080/",
     "height": 237
    },
    "id": "cVQXX6Kw42ki",
    "outputId": "063ffd9b-2bc7-49b9-e424-8e8cca6be04b",
    "scrolled": false
   },
   "outputs": [
    {
     "data": {
      "text/html": [
       "<div>\n",
       "<style scoped>\n",
       "    .dataframe tbody tr th:only-of-type {\n",
       "        vertical-align: middle;\n",
       "    }\n",
       "\n",
       "    .dataframe tbody tr th {\n",
       "        vertical-align: top;\n",
       "    }\n",
       "\n",
       "    .dataframe thead th {\n",
       "        text-align: right;\n",
       "    }\n",
       "</style>\n",
       "<table border=\"1\" class=\"dataframe\">\n",
       "  <thead>\n",
       "    <tr style=\"text-align: right;\">\n",
       "      <th></th>\n",
       "      <th>IMG_ID</th>\n",
       "      <th>Category</th>\n",
       "      <th>Extension</th>\n",
       "      <th>Width</th>\n",
       "      <th>Height</th>\n",
       "      <th>Channel</th>\n",
       "      <th>Path</th>\n",
       "      <th>img</th>\n",
       "    </tr>\n",
       "  </thead>\n",
       "  <tbody>\n",
       "    <tr>\n",
       "      <th>5355</th>\n",
       "      <td>tymqqdoygnolomnkjkph.jpg</td>\n",
       "      <td>L2_24</td>\n",
       "      <td>jpg</td>\n",
       "      <td>3508</td>\n",
       "      <td>2480</td>\n",
       "      <td>1</td>\n",
       "      <td>/Users/User/303/creator_camp/L2_24\\tymqqdoygno...</td>\n",
       "      <td>tymqqdoygnolomnkjkph</td>\n",
       "    </tr>\n",
       "    <tr>\n",
       "      <th>12971</th>\n",
       "      <td>sejkpoipoqtssdispyqq.jpg</td>\n",
       "      <td>L2_30</td>\n",
       "      <td>jpg</td>\n",
       "      <td>3508</td>\n",
       "      <td>2480</td>\n",
       "      <td>1</td>\n",
       "      <td>/Users/User/303/creator_camp/L2_30\\sejkpoipoqt...</td>\n",
       "      <td>sejkpoipoqtssdispyqq</td>\n",
       "    </tr>\n",
       "    <tr>\n",
       "      <th>13093</th>\n",
       "      <td>ztkcyprbncgkluufgxxh.jpg</td>\n",
       "      <td>L2_30</td>\n",
       "      <td>jpg</td>\n",
       "      <td>3508</td>\n",
       "      <td>2480</td>\n",
       "      <td>1</td>\n",
       "      <td>/Users/User/303/creator_camp/L2_30\\ztkcyprbncg...</td>\n",
       "      <td>ztkcyprbncgkluufgxxh</td>\n",
       "    </tr>\n",
       "    <tr>\n",
       "      <th>21836</th>\n",
       "      <td>oitkkvuasrrheybiwgfw.jpg</td>\n",
       "      <td>L2_45</td>\n",
       "      <td>jpg</td>\n",
       "      <td>2480</td>\n",
       "      <td>3508</td>\n",
       "      <td>1</td>\n",
       "      <td>/Users/User/303/creator_camp/L2_45\\oitkkvuasrr...</td>\n",
       "      <td>oitkkvuasrrheybiwgfw</td>\n",
       "    </tr>\n",
       "    <tr>\n",
       "      <th>21896</th>\n",
       "      <td>qowbaduogreoqlqgkzsc.jpg</td>\n",
       "      <td>L2_45</td>\n",
       "      <td>jpg</td>\n",
       "      <td>3508</td>\n",
       "      <td>2480</td>\n",
       "      <td>1</td>\n",
       "      <td>/Users/User/303/creator_camp/L2_45\\qowbaduogre...</td>\n",
       "      <td>qowbaduogreoqlqgkzsc</td>\n",
       "    </tr>\n",
       "    <tr>\n",
       "      <th>22096</th>\n",
       "      <td>yudjtlslwipvblwncold.jpg</td>\n",
       "      <td>L2_45</td>\n",
       "      <td>jpg</td>\n",
       "      <td>3508</td>\n",
       "      <td>2480</td>\n",
       "      <td>1</td>\n",
       "      <td>/Users/User/303/creator_camp/L2_45\\yudjtlslwip...</td>\n",
       "      <td>yudjtlslwipvblwncold</td>\n",
       "    </tr>\n",
       "  </tbody>\n",
       "</table>\n",
       "</div>"
      ],
      "text/plain": [
       "                         IMG_ID Category Extension  Width  Height  Channel  \\\n",
       "5355   tymqqdoygnolomnkjkph.jpg    L2_24       jpg   3508    2480        1   \n",
       "12971  sejkpoipoqtssdispyqq.jpg    L2_30       jpg   3508    2480        1   \n",
       "13093  ztkcyprbncgkluufgxxh.jpg    L2_30       jpg   3508    2480        1   \n",
       "21836  oitkkvuasrrheybiwgfw.jpg    L2_45       jpg   2480    3508        1   \n",
       "21896  qowbaduogreoqlqgkzsc.jpg    L2_45       jpg   3508    2480        1   \n",
       "22096  yudjtlslwipvblwncold.jpg    L2_45       jpg   3508    2480        1   \n",
       "\n",
       "                                                    Path                   img  \n",
       "5355   /Users/User/303/creator_camp/L2_24\\tymqqdoygno...  tymqqdoygnolomnkjkph  \n",
       "12971  /Users/User/303/creator_camp/L2_30\\sejkpoipoqt...  sejkpoipoqtssdispyqq  \n",
       "13093  /Users/User/303/creator_camp/L2_30\\ztkcyprbncg...  ztkcyprbncgkluufgxxh  \n",
       "21836  /Users/User/303/creator_camp/L2_45\\oitkkvuasrr...  oitkkvuasrrheybiwgfw  \n",
       "21896  /Users/User/303/creator_camp/L2_45\\qowbaduogre...  qowbaduogreoqlqgkzsc  \n",
       "22096  /Users/User/303/creator_camp/L2_45\\yudjtlslwip...  yudjtlslwipvblwncold  "
      ]
     },
     "execution_count": 27,
     "metadata": {},
     "output_type": "execute_result"
    }
   ],
   "source": [
    "img_info[img_info.Channel==1]"
   ]
  },
  {
   "cell_type": "code",
   "execution_count": 28,
   "metadata": {
    "colab": {
     "base_uri": "https://localhost:8080/",
     "height": 424
    },
    "id": "onMQcS-PEpml",
    "outputId": "28ee1af7-650d-4c86-98f2-454bf6e52544",
    "scrolled": false
   },
   "outputs": [
    {
     "data": {
      "text/html": [
       "<div>\n",
       "<style scoped>\n",
       "    .dataframe tbody tr th:only-of-type {\n",
       "        vertical-align: middle;\n",
       "    }\n",
       "\n",
       "    .dataframe tbody tr th {\n",
       "        vertical-align: top;\n",
       "    }\n",
       "\n",
       "    .dataframe thead th {\n",
       "        text-align: right;\n",
       "    }\n",
       "</style>\n",
       "<table border=\"1\" class=\"dataframe\">\n",
       "  <thead>\n",
       "    <tr style=\"text-align: right;\">\n",
       "      <th></th>\n",
       "      <th>IMG_ID</th>\n",
       "      <th>Category</th>\n",
       "      <th>Extension</th>\n",
       "      <th>Width</th>\n",
       "      <th>Height</th>\n",
       "      <th>Channel</th>\n",
       "      <th>Path</th>\n",
       "      <th>img</th>\n",
       "    </tr>\n",
       "  </thead>\n",
       "  <tbody>\n",
       "    <tr>\n",
       "      <th>57</th>\n",
       "      <td>asjxvuunbzusockndamb.png</td>\n",
       "      <td>L2_10</td>\n",
       "      <td>png</td>\n",
       "      <td>700</td>\n",
       "      <td>700</td>\n",
       "      <td>4</td>\n",
       "      <td>/Users/User/303/creator_camp/L2_10\\asjxvuunbzu...</td>\n",
       "      <td>asjxvuunbzusockndamb</td>\n",
       "    </tr>\n",
       "    <tr>\n",
       "      <th>83</th>\n",
       "      <td>azezmjbkdruxaetggemw.png</td>\n",
       "      <td>L2_10</td>\n",
       "      <td>png</td>\n",
       "      <td>700</td>\n",
       "      <td>700</td>\n",
       "      <td>4</td>\n",
       "      <td>/Users/User/303/creator_camp/L2_10\\azezmjbkdru...</td>\n",
       "      <td>azezmjbkdruxaetggemw</td>\n",
       "    </tr>\n",
       "    <tr>\n",
       "      <th>187</th>\n",
       "      <td>ckiazuwmswqtllwzjcjk.png</td>\n",
       "      <td>L2_10</td>\n",
       "      <td>png</td>\n",
       "      <td>700</td>\n",
       "      <td>700</td>\n",
       "      <td>4</td>\n",
       "      <td>/Users/User/303/creator_camp/L2_10\\ckiazuwmswq...</td>\n",
       "      <td>ckiazuwmswqtllwzjcjk</td>\n",
       "    </tr>\n",
       "    <tr>\n",
       "      <th>189</th>\n",
       "      <td>cledyjrwyrocleoqxcxj.png</td>\n",
       "      <td>L2_10</td>\n",
       "      <td>png</td>\n",
       "      <td>700</td>\n",
       "      <td>700</td>\n",
       "      <td>4</td>\n",
       "      <td>/Users/User/303/creator_camp/L2_10\\cledyjrwyro...</td>\n",
       "      <td>cledyjrwyrocleoqxcxj</td>\n",
       "    </tr>\n",
       "    <tr>\n",
       "      <th>192</th>\n",
       "      <td>clvmiwqtqeurdtbczkxv.png</td>\n",
       "      <td>L2_10</td>\n",
       "      <td>png</td>\n",
       "      <td>700</td>\n",
       "      <td>700</td>\n",
       "      <td>4</td>\n",
       "      <td>/Users/User/303/creator_camp/L2_10\\clvmiwqtqeu...</td>\n",
       "      <td>clvmiwqtqeurdtbczkxv</td>\n",
       "    </tr>\n",
       "    <tr>\n",
       "      <th>...</th>\n",
       "      <td>...</td>\n",
       "      <td>...</td>\n",
       "      <td>...</td>\n",
       "      <td>...</td>\n",
       "      <td>...</td>\n",
       "      <td>...</td>\n",
       "      <td>...</td>\n",
       "      <td>...</td>\n",
       "    </tr>\n",
       "    <tr>\n",
       "      <th>25463</th>\n",
       "      <td>xcpjiailwgyywdftikya.png</td>\n",
       "      <td>L2_52</td>\n",
       "      <td>png</td>\n",
       "      <td>700</td>\n",
       "      <td>700</td>\n",
       "      <td>4</td>\n",
       "      <td>/Users/User/303/creator_camp/L2_52\\xcpjiailwgy...</td>\n",
       "      <td>xcpjiailwgyywdftikya</td>\n",
       "    </tr>\n",
       "    <tr>\n",
       "      <th>25467</th>\n",
       "      <td>xirgpzcmwthrwkshaoor.png</td>\n",
       "      <td>L2_52</td>\n",
       "      <td>png</td>\n",
       "      <td>700</td>\n",
       "      <td>700</td>\n",
       "      <td>4</td>\n",
       "      <td>/Users/User/303/creator_camp/L2_52\\xirgpzcmwth...</td>\n",
       "      <td>xirgpzcmwthrwkshaoor</td>\n",
       "    </tr>\n",
       "    <tr>\n",
       "      <th>25472</th>\n",
       "      <td>xwwrotbclxxzvqlkmejn.png</td>\n",
       "      <td>L2_52</td>\n",
       "      <td>png</td>\n",
       "      <td>1200</td>\n",
       "      <td>1200</td>\n",
       "      <td>4</td>\n",
       "      <td>/Users/User/303/creator_camp/L2_52\\xwwrotbclxx...</td>\n",
       "      <td>xwwrotbclxxzvqlkmejn</td>\n",
       "    </tr>\n",
       "    <tr>\n",
       "      <th>25488</th>\n",
       "      <td>yyexhfajytbxwflbvlxd.png</td>\n",
       "      <td>L2_52</td>\n",
       "      <td>png</td>\n",
       "      <td>700</td>\n",
       "      <td>700</td>\n",
       "      <td>4</td>\n",
       "      <td>/Users/User/303/creator_camp/L2_52\\yyexhfajytb...</td>\n",
       "      <td>yyexhfajytbxwflbvlxd</td>\n",
       "    </tr>\n",
       "    <tr>\n",
       "      <th>25499</th>\n",
       "      <td>ztedlwqpolocumvrpkdt.png</td>\n",
       "      <td>L2_52</td>\n",
       "      <td>png</td>\n",
       "      <td>700</td>\n",
       "      <td>700</td>\n",
       "      <td>4</td>\n",
       "      <td>/Users/User/303/creator_camp/L2_52\\ztedlwqpolo...</td>\n",
       "      <td>ztedlwqpolocumvrpkdt</td>\n",
       "    </tr>\n",
       "  </tbody>\n",
       "</table>\n",
       "<p>1137 rows × 8 columns</p>\n",
       "</div>"
      ],
      "text/plain": [
       "                         IMG_ID Category Extension  Width  Height  Channel  \\\n",
       "57     asjxvuunbzusockndamb.png    L2_10       png    700     700        4   \n",
       "83     azezmjbkdruxaetggemw.png    L2_10       png    700     700        4   \n",
       "187    ckiazuwmswqtllwzjcjk.png    L2_10       png    700     700        4   \n",
       "189    cledyjrwyrocleoqxcxj.png    L2_10       png    700     700        4   \n",
       "192    clvmiwqtqeurdtbczkxv.png    L2_10       png    700     700        4   \n",
       "...                         ...      ...       ...    ...     ...      ...   \n",
       "25463  xcpjiailwgyywdftikya.png    L2_52       png    700     700        4   \n",
       "25467  xirgpzcmwthrwkshaoor.png    L2_52       png    700     700        4   \n",
       "25472  xwwrotbclxxzvqlkmejn.png    L2_52       png   1200    1200        4   \n",
       "25488  yyexhfajytbxwflbvlxd.png    L2_52       png    700     700        4   \n",
       "25499  ztedlwqpolocumvrpkdt.png    L2_52       png    700     700        4   \n",
       "\n",
       "                                                    Path                   img  \n",
       "57     /Users/User/303/creator_camp/L2_10\\asjxvuunbzu...  asjxvuunbzusockndamb  \n",
       "83     /Users/User/303/creator_camp/L2_10\\azezmjbkdru...  azezmjbkdruxaetggemw  \n",
       "187    /Users/User/303/creator_camp/L2_10\\ckiazuwmswq...  ckiazuwmswqtllwzjcjk  \n",
       "189    /Users/User/303/creator_camp/L2_10\\cledyjrwyro...  cledyjrwyrocleoqxcxj  \n",
       "192    /Users/User/303/creator_camp/L2_10\\clvmiwqtqeu...  clvmiwqtqeurdtbczkxv  \n",
       "...                                                  ...                   ...  \n",
       "25463  /Users/User/303/creator_camp/L2_52\\xcpjiailwgy...  xcpjiailwgyywdftikya  \n",
       "25467  /Users/User/303/creator_camp/L2_52\\xirgpzcmwth...  xirgpzcmwthrwkshaoor  \n",
       "25472  /Users/User/303/creator_camp/L2_52\\xwwrotbclxx...  xwwrotbclxxzvqlkmejn  \n",
       "25488  /Users/User/303/creator_camp/L2_52\\yyexhfajytb...  yyexhfajytbxwflbvlxd  \n",
       "25499  /Users/User/303/creator_camp/L2_52\\ztedlwqpolo...  ztedlwqpolocumvrpkdt  \n",
       "\n",
       "[1137 rows x 8 columns]"
      ]
     },
     "execution_count": 28,
     "metadata": {},
     "output_type": "execute_result"
    }
   ],
   "source": [
    "img_info[img_info.Channel==4]"
   ]
  },
  {
   "cell_type": "code",
   "execution_count": 30,
   "metadata": {
    "colab": {
     "base_uri": "https://localhost:8080/"
    },
    "id": "rKgvNWyXw1ar",
    "outputId": "608ca56a-a56f-4c7e-fc08-a80b120bcbb1"
   },
   "outputs": [
    {
     "name": "stdout",
     "output_type": "stream",
     "text": [
      "클래스 => 20개\n",
      "******************************\n",
      "1 Channel : 6 개\n",
      "3 Channel : 24360 개\n",
      "4 Channel : 1137 개\n",
      "******************************\n",
      "파일 확장자 => ['jpg' 'png']\n",
      "JPG FIle : 23992 개\n",
      "PNG FIle : 1511 개\n",
      "******************************\n",
      "이미지 크기 Min,Max\n",
      "Max Width : 5000\n",
      "Min Width : 97\n",
      "Max Height : 5001\n",
      "Min Height : 162\n"
     ]
    }
   ],
   "source": [
    "# 클래스 수\n",
    "#print(img_info.Category.unique())\n",
    "print(\"클래스 => {0}개\".format(len(img_info.Category.unique())))\n",
    "print(\"*\"*30)\n",
    "# 채널 개수\n",
    "print(\"1 Channel : {0} 개\".format(img_info.IMG_ID[img_info.Channel==1].count()))\n",
    "print(\"3 Channel : {0} 개\".format(img_info.IMG_ID[img_info.Channel==3].count()))\n",
    "print(\"4 Channel : {0} 개\".format(img_info.IMG_ID[img_info.Channel==4].count()))\n",
    "print(\"*\"*30)\n",
    "# 확장자\n",
    "print(\"파일 확장자 => {0}\".format(img_info.Extension.unique()))\n",
    "print(\"JPG FIle : {0} 개\".format(img_info.IMG_ID[img_info.Extension=='jpg'].count()))\n",
    "print(\"PNG FIle : {0} 개\".format(img_info.IMG_ID[img_info.Extension=='png'].count()))\n",
    "print(\"*\"*30)\n",
    "# 영상데이터 크기\n",
    "print(\"이미지 크기 Min,Max\")\n",
    "print(\"Max Width : {0}\".format(img_info.Width.max()))\n",
    "print(\"Min Width : {0}\".format(img_info.Width.min()))\n",
    "print(\"Max Height : {0}\".format(img_info.Height.max()))\n",
    "print(\"Min Height : {0}\".format(img_info.Height.min()))"
   ]
  },
  {
   "cell_type": "markdown",
   "metadata": {
    "id": "r88jbmvQ6YV_"
   },
   "source": [
    "## 2. 문제점 도출 (10)"
   ]
  },
  {
   "cell_type": "markdown",
   "metadata": {
    "id": "4vm1jvkt7H9W"
   },
   "source": [
    "1. 데이터 불균형 -> 오버샘플링 , 언더샘플링 필요\n",
    ">  -> L2_25 , L2_33 클래스가 절반 차지\n",
    "\n",
    "2. 영상 데이터 차원 1, 3, 4 차원으로 다양함\n",
    "> 4차원-> RGBA\n",
    "\n",
    "\n",
    "3. 확장자 png , jpg 두 종류\n",
    "4. 너비, 높이 Resize 필요\n",
    "\n",
    "5. 특정 클래스에 불필요한 인물, 풍경사진 포함 -> 일러스트와 사진 이진분류로 사진 삭제-> 2번문제"
   ]
  },
  {
   "cell_type": "markdown",
   "metadata": {
    "id": "A84zhwcp5lFh"
   },
   "source": [
    " 영상 색상 경고??\n",
    "> 해결방안\n",
    "https://jh-bk.tistory.com/41\n",
    "\n",
    "\n"
   ]
  },
  {
   "cell_type": "markdown",
   "metadata": {
    "id": "DMRu3DDx5iaT"
   },
   "source": [
    "![image.png](data:image/png;base64,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)"
   ]
  },
  {
   "cell_type": "markdown",
   "metadata": {
    "id": "jqKO_HY267Wf"
   },
   "source": [
    "## 데이터 분포 문제 해결(10)"
   ]
  },
  {
   "cell_type": "markdown",
   "metadata": {
    "id": "2L_z2NnL7IKp"
   },
   "source": [
    "1. 데이터 불균형 -> 오버샘플링 , 언더샘플링 필요\n",
    ">  -> L2_25 , L2_33 클래스가 절반 차지\n",
    "\n",
    "  > 일정 수치를 기준으로 데이터 작은 클래스는 augmentation 하고 많은 클래스는 랜덤 추출  \n",
    "\n",
    "\n",
    "2. 영상 데이터 차원 1, 3, 4 차원으로 다양함\n",
    "> 4차원-> RGBA\n",
    " \n",
    " **해결방안**\n",
    " 1차원의 이미지 -> 6개이므로 삭제 /\n",
    " 4차원의 이미지 -> cv2.COLOR_BGRA2BGR을 통해 3차원으로 변경, cv2.IMREAD_UNCHANGED 옵션 안넣으면 자동으로 3채널로 인식\n",
    "\n",
    "3. 확장자 png , jpg 두 종류\n",
    "\n",
    "4. 너비, 높이 Resize 필요 (ex) 32px 64px ~~"
   ]
  },
  {
   "cell_type": "code",
   "execution_count": 33,
   "metadata": {
    "id": "GnYnePyfD-8q",
    "scrolled": true
   },
   "outputs": [
    {
     "data": {
      "text/plain": [
       "array([3, 4], dtype=int64)"
      ]
     },
     "execution_count": 33,
     "metadata": {},
     "output_type": "execute_result"
    }
   ],
   "source": [
    "# 흑백 이미지 삭제\n",
    "ch1_index=img_info[img_info.Channel==1].index\n",
    "img_info= img_info.drop(ch1_index)\n",
    "img_info.Channel.unique()"
   ]
  },
  {
   "cell_type": "code",
   "execution_count": 34,
   "metadata": {},
   "outputs": [
    {
     "data": {
      "text/html": [
       "<div>\n",
       "<style scoped>\n",
       "    .dataframe tbody tr th:only-of-type {\n",
       "        vertical-align: middle;\n",
       "    }\n",
       "\n",
       "    .dataframe tbody tr th {\n",
       "        vertical-align: top;\n",
       "    }\n",
       "\n",
       "    .dataframe thead th {\n",
       "        text-align: right;\n",
       "    }\n",
       "</style>\n",
       "<table border=\"1\" class=\"dataframe\">\n",
       "  <thead>\n",
       "    <tr style=\"text-align: right;\">\n",
       "      <th></th>\n",
       "      <th>IMG_ID</th>\n",
       "      <th>Category</th>\n",
       "      <th>Extension</th>\n",
       "      <th>Width</th>\n",
       "      <th>Height</th>\n",
       "      <th>Channel</th>\n",
       "      <th>Path</th>\n",
       "      <th>img</th>\n",
       "    </tr>\n",
       "  </thead>\n",
       "  <tbody>\n",
       "  </tbody>\n",
       "</table>\n",
       "</div>"
      ],
      "text/plain": [
       "Empty DataFrame\n",
       "Columns: [IMG_ID, Category, Extension, Width, Height, Channel, Path, img]\n",
       "Index: []"
      ]
     },
     "execution_count": 34,
     "metadata": {},
     "output_type": "execute_result"
    }
   ],
   "source": [
    "# 재확인\n",
    "img_info[img_info.Channel==1]"
   ]
  },
  {
   "cell_type": "code",
   "execution_count": 35,
   "metadata": {},
   "outputs": [
    {
     "data": {
      "text/html": [
       "<div>\n",
       "<style scoped>\n",
       "    .dataframe tbody tr th:only-of-type {\n",
       "        vertical-align: middle;\n",
       "    }\n",
       "\n",
       "    .dataframe tbody tr th {\n",
       "        vertical-align: top;\n",
       "    }\n",
       "\n",
       "    .dataframe thead th {\n",
       "        text-align: right;\n",
       "    }\n",
       "</style>\n",
       "<table border=\"1\" class=\"dataframe\">\n",
       "  <thead>\n",
       "    <tr style=\"text-align: right;\">\n",
       "      <th></th>\n",
       "      <th>IMG_ID</th>\n",
       "      <th>Category</th>\n",
       "      <th>Extension</th>\n",
       "      <th>Width</th>\n",
       "      <th>Height</th>\n",
       "      <th>Channel</th>\n",
       "      <th>Path</th>\n",
       "      <th>img</th>\n",
       "    </tr>\n",
       "  </thead>\n",
       "  <tbody>\n",
       "    <tr>\n",
       "      <th>0</th>\n",
       "      <td>aamhfbsxjoqkqsxnnpoy.jpg</td>\n",
       "      <td>L2_10</td>\n",
       "      <td>jpg</td>\n",
       "      <td>1200</td>\n",
       "      <td>1200</td>\n",
       "      <td>3</td>\n",
       "      <td>/Users/User/303/creator_camp/L2_10\\aamhfbsxjoq...</td>\n",
       "      <td>aamhfbsxjoqkqsxnnpoy</td>\n",
       "    </tr>\n",
       "    <tr>\n",
       "      <th>1</th>\n",
       "      <td>aatdcomdixgejmiibsft.jpg</td>\n",
       "      <td>L2_10</td>\n",
       "      <td>jpg</td>\n",
       "      <td>700</td>\n",
       "      <td>700</td>\n",
       "      <td>3</td>\n",
       "      <td>/Users/User/303/creator_camp/L2_10\\aatdcomdixg...</td>\n",
       "      <td>aatdcomdixgejmiibsft</td>\n",
       "    </tr>\n",
       "    <tr>\n",
       "      <th>2</th>\n",
       "      <td>aatmmprdzkzdkbfcslkx.jpg</td>\n",
       "      <td>L2_10</td>\n",
       "      <td>jpg</td>\n",
       "      <td>700</td>\n",
       "      <td>700</td>\n",
       "      <td>3</td>\n",
       "      <td>/Users/User/303/creator_camp/L2_10\\aatmmprdzkz...</td>\n",
       "      <td>aatmmprdzkzdkbfcslkx</td>\n",
       "    </tr>\n",
       "    <tr>\n",
       "      <th>3</th>\n",
       "      <td>abaoovbyxzqodvhoasko.jpg</td>\n",
       "      <td>L2_10</td>\n",
       "      <td>jpg</td>\n",
       "      <td>2480</td>\n",
       "      <td>3508</td>\n",
       "      <td>3</td>\n",
       "      <td>/Users/User/303/creator_camp/L2_10\\abaoovbyxzq...</td>\n",
       "      <td>abaoovbyxzqodvhoasko</td>\n",
       "    </tr>\n",
       "    <tr>\n",
       "      <th>4</th>\n",
       "      <td>abymagsohyagiheolkhk.jpg</td>\n",
       "      <td>L2_10</td>\n",
       "      <td>jpg</td>\n",
       "      <td>700</td>\n",
       "      <td>700</td>\n",
       "      <td>3</td>\n",
       "      <td>/Users/User/303/creator_camp/L2_10\\abymagsohya...</td>\n",
       "      <td>abymagsohyagiheolkhk</td>\n",
       "    </tr>\n",
       "    <tr>\n",
       "      <th>...</th>\n",
       "      <td>...</td>\n",
       "      <td>...</td>\n",
       "      <td>...</td>\n",
       "      <td>...</td>\n",
       "      <td>...</td>\n",
       "      <td>...</td>\n",
       "      <td>...</td>\n",
       "      <td>...</td>\n",
       "    </tr>\n",
       "    <tr>\n",
       "      <th>25492</th>\n",
       "      <td>zslxpqgjoxxxnfcgaqbc.jpg</td>\n",
       "      <td>L2_52</td>\n",
       "      <td>jpg</td>\n",
       "      <td>700</td>\n",
       "      <td>700</td>\n",
       "      <td>3</td>\n",
       "      <td>/Users/User/303/creator_camp/L2_52\\zslxpqgjoxx...</td>\n",
       "      <td>zslxpqgjoxxxnfcgaqbc</td>\n",
       "    </tr>\n",
       "    <tr>\n",
       "      <th>25493</th>\n",
       "      <td>ztedlwqpolocumvrpkdt.png</td>\n",
       "      <td>L2_52</td>\n",
       "      <td>png</td>\n",
       "      <td>700</td>\n",
       "      <td>700</td>\n",
       "      <td>4</td>\n",
       "      <td>/Users/User/303/creator_camp/L2_52\\ztedlwqpolo...</td>\n",
       "      <td>ztedlwqpolocumvrpkdt</td>\n",
       "    </tr>\n",
       "    <tr>\n",
       "      <th>25494</th>\n",
       "      <td>zukfkicrimhykqtrxkbe.png</td>\n",
       "      <td>L2_52</td>\n",
       "      <td>png</td>\n",
       "      <td>700</td>\n",
       "      <td>700</td>\n",
       "      <td>3</td>\n",
       "      <td>/Users/User/303/creator_camp/L2_52\\zukfkicrimh...</td>\n",
       "      <td>zukfkicrimhykqtrxkbe</td>\n",
       "    </tr>\n",
       "    <tr>\n",
       "      <th>25495</th>\n",
       "      <td>zvpheaqohuqevixkjspd.jpg</td>\n",
       "      <td>L2_52</td>\n",
       "      <td>jpg</td>\n",
       "      <td>1200</td>\n",
       "      <td>1200</td>\n",
       "      <td>3</td>\n",
       "      <td>/Users/User/303/creator_camp/L2_52\\zvpheaqohuq...</td>\n",
       "      <td>zvpheaqohuqevixkjspd</td>\n",
       "    </tr>\n",
       "    <tr>\n",
       "      <th>25496</th>\n",
       "      <td>zwioxnzjuiufsjztftts.jpg</td>\n",
       "      <td>L2_52</td>\n",
       "      <td>jpg</td>\n",
       "      <td>300</td>\n",
       "      <td>300</td>\n",
       "      <td>3</td>\n",
       "      <td>/Users/User/303/creator_camp/L2_52\\zwioxnzjuiu...</td>\n",
       "      <td>zwioxnzjuiufsjztftts</td>\n",
       "    </tr>\n",
       "  </tbody>\n",
       "</table>\n",
       "<p>25497 rows × 8 columns</p>\n",
       "</div>"
      ],
      "text/plain": [
       "                         IMG_ID Category Extension  Width  Height  Channel  \\\n",
       "0      aamhfbsxjoqkqsxnnpoy.jpg    L2_10       jpg   1200    1200        3   \n",
       "1      aatdcomdixgejmiibsft.jpg    L2_10       jpg    700     700        3   \n",
       "2      aatmmprdzkzdkbfcslkx.jpg    L2_10       jpg    700     700        3   \n",
       "3      abaoovbyxzqodvhoasko.jpg    L2_10       jpg   2480    3508        3   \n",
       "4      abymagsohyagiheolkhk.jpg    L2_10       jpg    700     700        3   \n",
       "...                         ...      ...       ...    ...     ...      ...   \n",
       "25492  zslxpqgjoxxxnfcgaqbc.jpg    L2_52       jpg    700     700        3   \n",
       "25493  ztedlwqpolocumvrpkdt.png    L2_52       png    700     700        4   \n",
       "25494  zukfkicrimhykqtrxkbe.png    L2_52       png    700     700        3   \n",
       "25495  zvpheaqohuqevixkjspd.jpg    L2_52       jpg   1200    1200        3   \n",
       "25496  zwioxnzjuiufsjztftts.jpg    L2_52       jpg    300     300        3   \n",
       "\n",
       "                                                    Path                   img  \n",
       "0      /Users/User/303/creator_camp/L2_10\\aamhfbsxjoq...  aamhfbsxjoqkqsxnnpoy  \n",
       "1      /Users/User/303/creator_camp/L2_10\\aatdcomdixg...  aatdcomdixgejmiibsft  \n",
       "2      /Users/User/303/creator_camp/L2_10\\aatmmprdzkz...  aatmmprdzkzdkbfcslkx  \n",
       "3      /Users/User/303/creator_camp/L2_10\\abaoovbyxzq...  abaoovbyxzqodvhoasko  \n",
       "4      /Users/User/303/creator_camp/L2_10\\abymagsohya...  abymagsohyagiheolkhk  \n",
       "...                                                  ...                   ...  \n",
       "25492  /Users/User/303/creator_camp/L2_52\\zslxpqgjoxx...  zslxpqgjoxxxnfcgaqbc  \n",
       "25493  /Users/User/303/creator_camp/L2_52\\ztedlwqpolo...  ztedlwqpolocumvrpkdt  \n",
       "25494  /Users/User/303/creator_camp/L2_52\\zukfkicrimh...  zukfkicrimhykqtrxkbe  \n",
       "25495  /Users/User/303/creator_camp/L2_52\\zvpheaqohuq...  zvpheaqohuqevixkjspd  \n",
       "25496  /Users/User/303/creator_camp/L2_52\\zwioxnzjuiu...  zwioxnzjuiufsjztftts  \n",
       "\n",
       "[25497 rows x 8 columns]"
      ]
     },
     "execution_count": 35,
     "metadata": {},
     "output_type": "execute_result"
    }
   ],
   "source": [
    "img_info.reset_index(drop=True)"
   ]
  },
  {
   "cell_type": "code",
   "execution_count": 36,
   "metadata": {
    "scrolled": true
   },
   "outputs": [
    {
     "data": {
      "text/plain": [
       "Category\n",
       "L2_10    1893\n",
       "L2_12     518\n",
       "L2_15    1509\n",
       "L2_20     410\n",
       "L2_21     410\n",
       "L2_24     781\n",
       "L2_25    6189\n",
       "L2_27     426\n",
       "L2_3      595\n",
       "L2_30     362\n",
       "L2_33    6206\n",
       "L2_34     419\n",
       "L2_39     454\n",
       "L2_40     180\n",
       "L2_41     593\n",
       "L2_44     547\n",
       "L2_45     628\n",
       "L2_46    2214\n",
       "L2_50     781\n",
       "L2_52     382\n",
       "Name: IMG_ID, dtype: int64"
      ]
     },
     "execution_count": 36,
     "metadata": {},
     "output_type": "execute_result"
    }
   ],
   "source": [
    "img_info.groupby(\"Category\")[\"IMG_ID\"].count()"
   ]
  }
 ],
 "metadata": {
  "colab": {
   "collapsed_sections": [],
   "provenance": []
  },
  "kernelspec": {
   "display_name": "Python 3 (ipykernel)",
   "language": "python",
   "name": "python3"
  },
  "language_info": {
   "codemirror_mode": {
    "name": "ipython",
    "version": 3
   },
   "file_extension": ".py",
   "mimetype": "text/x-python",
   "name": "python",
   "nbconvert_exporter": "python",
   "pygments_lexer": "ipython3",
   "version": "3.9.12"
  }
 },
 "nbformat": 4,
 "nbformat_minor": 1
}
