{
 "cells": [
  {
   "cell_type": "markdown",
   "id": "a3b79caf",
   "metadata": {},
   "source": [
    "## Import Packages"
   ]
  },
  {
   "cell_type": "code",
   "execution_count": 1,
   "id": "83b757a0",
   "metadata": {
    "scrolled": false
   },
   "outputs": [
    {
     "name": "stdout",
     "output_type": "stream",
     "text": [
      "Fri Nov 25 15:08:45 2022       \n",
      "+-----------------------------------------------------------------------------+\n",
      "| NVIDIA-SMI 472.50       Driver Version: 472.50       CUDA Version: 11.4     |\n",
      "|-------------------------------+----------------------+----------------------+\n",
      "| GPU  Name            TCC/WDDM | Bus-Id        Disp.A | Volatile Uncorr. ECC |\n",
      "| Fan  Temp  Perf  Pwr:Usage/Cap|         Memory-Usage | GPU-Util  Compute M. |\n",
      "|                               |                      |               MIG M. |\n",
      "|===============================+======================+======================|\n",
      "|   0  NVIDIA GeForce ... WDDM  | 00000000:01:00.0 Off |                  N/A |\n",
      "|  0%   45C    P8    14W / 320W |   8595MiB / 10240MiB |      0%      Default |\n",
      "|                               |                      |                  N/A |\n",
      "+-------------------------------+----------------------+----------------------+\n",
      "                                                                               \n",
      "+-----------------------------------------------------------------------------+\n",
      "| Processes:                                                                  |\n",
      "|  GPU   GI   CI        PID   Type   Process name                  GPU Memory |\n",
      "|        ID   ID                                                   Usage      |\n",
      "|=============================================================================|\n",
      "|    0   N/A  N/A      3656      C   ...User\\anaconda3\\python.exe    N/A      |\n",
      "+-----------------------------------------------------------------------------+\n"
     ]
    }
   ],
   "source": [
    "!nvidia-smi"
   ]
  },
  {
   "cell_type": "code",
   "execution_count": 2,
   "id": "3ef4e6e0",
   "metadata": {
    "scrolled": true
   },
   "outputs": [],
   "source": [
    "import tensorflow as tf\n",
    "import tensorflow.keras\n",
    "from keras import *\n",
    "import pandas as pd\n",
    "import numpy as np\n",
    "import matplotlib.pyplot as plt\n",
    "import glob\n",
    "import os\n",
    "import time\n",
    "from sklearn.model_selection import train_test_split\n",
    "from sklearn.metrics import f1_score\n",
    "from sklearn import metrics\n",
    "from keras.datasets import cifar10\n",
    "from keras.utils import to_categorical,load_img,img_to_array\n",
    "from keras.preprocessing.image import ImageDataGenerator\n",
    "from tensorflow_addons.optimizers import AdamW,SGDW\n",
    "from sklearn.metrics import f1_score,confusion_matrix,classification_report\n",
    "#Convolution Neural Networks Filter Image\n",
    "from keras.models import Sequential\n",
    "from keras.layers import Dense, Activation, Convolution2D, MaxPooling2D, UpSampling2D\n",
    "# Convolution Auto Encoder Filter Image\n",
    "from keras.layers import Input\n",
    "from keras.layers import Conv2D, MaxPooling2D, UpSampling2D,Concatenate ,Conv2DTranspose,GlobalAveragePooling2D,add,ZeroPadding2D,concatenate\n",
    "from keras import optimizers\n",
    "from keras.models import Model\n",
    "from keras import backend as K\n",
    "from keras import regularizers\n",
    "from keras.layers import Input,Layer\n",
    "from keras.layers import Conv2D, MaxPooling2D, UpSampling2D ,LeakyReLU,ReLU, Concatenate,Flatten,BatchNormalization,Dropout,ReLU,LeakyReLU,PReLU\n",
    "from keras import optimizers\n",
    "from keras.models import Model\n",
    "import gc\n",
    "from sklearn.metrics import f1_score,confusion_matrix,classification_report\n",
    "import collections"
   ]
  },
  {
   "cell_type": "markdown",
   "id": "82ec6c52",
   "metadata": {},
   "source": [
    "## Load Dataset"
   ]
  },
  {
   "cell_type": "code",
   "execution_count": 3,
   "id": "81ea0e4c",
   "metadata": {},
   "outputs": [],
   "source": [
    "data=np.load('/Users/User/303/1_eonseung/creator_camp/final_data/224_imbalanced_x_normalization_final.npy')\n",
    "labels=np.load(\"/Users/User/303/1_eonseung/creator_camp/final_data/224_imbalanced_y_final.npy\")"
   ]
  },
  {
   "cell_type": "code",
   "execution_count": 4,
   "id": "f1d34c2d",
   "metadata": {},
   "outputs": [
    {
     "data": {
      "text/plain": [
       "12583"
      ]
     },
     "execution_count": 4,
     "metadata": {},
     "output_type": "execute_result"
    }
   ],
   "source": [
    "len(data)"
   ]
  },
  {
   "cell_type": "code",
   "execution_count": 5,
   "id": "d418487b",
   "metadata": {},
   "outputs": [],
   "source": [
    "# def normalize_image(img):\n",
    "#     img=img .astype('float32')\n",
    "#     for i in range(len(img)):\n",
    "#         img[i]= img[i]/ 255.0\n",
    "#         img[i][:,:,0]-=0.485 #R\n",
    "#         img[i][:,:,1]-=0.458 #G\n",
    "#         img[i][:,:,2]-=0.408 #B\n",
    "        \n",
    "#         img[i][:,:,0]/=0.229 #R\n",
    "#         img[i][:,:,1]/=0.224 #G\n",
    "#         img[i][:,:,2]/=0.225 #B\n",
    "#     return img"
   ]
  },
  {
   "cell_type": "code",
   "execution_count": 6,
   "id": "c4b8b1c7",
   "metadata": {},
   "outputs": [],
   "source": [
    "# data= normalize_image(data)"
   ]
  },
  {
   "cell_type": "code",
   "execution_count": 7,
   "id": "56f303d8",
   "metadata": {},
   "outputs": [],
   "source": [
    "IMAGENET_DEFAULT_MEAN = (0.485, 0.456, 0.406)\n",
    "IMAGENET_DEFAULT_VAR = (0.229 ** 2, 0.224 ** 2, 0.225 ** 2)\n",
    "# final=[]\n",
    "# augmentation_layer = tf.keras.Sequential([\n",
    "#     tf.keras.layers.experimental.preprocessing.Rescaling(1./255),            \n",
    "#     tf.keras.layers.experimental.preprocessing.Normalization(mean=IMAGENET_DEFAULT_MEAN, variance=IMAGENET_DEFAULT_VAR)    \n",
    "#     ])"
   ]
  },
  {
   "cell_type": "code",
   "execution_count": 8,
   "id": "5c44c5e5",
   "metadata": {},
   "outputs": [
    {
     "data": {
      "text/plain": [
       "Counter({1: 1893,\n",
       "         2: 124,\n",
       "         3: 1509,\n",
       "         4: 410,\n",
       "         5: 410,\n",
       "         6: 422,\n",
       "         7: 700,\n",
       "         8: 426,\n",
       "         0: 196,\n",
       "         9: 364,\n",
       "         10: 700,\n",
       "         11: 419,\n",
       "         12: 454,\n",
       "         13: 180,\n",
       "         14: 200,\n",
       "         15: 547,\n",
       "         16: 631,\n",
       "         17: 2214,\n",
       "         18: 402,\n",
       "         19: 382})"
      ]
     },
     "execution_count": 8,
     "metadata": {},
     "output_type": "execute_result"
    }
   ],
   "source": [
    "from collections import Counter\n",
    "Counter(labels)"
   ]
  },
  {
   "cell_type": "markdown",
   "id": "39ed0719",
   "metadata": {},
   "source": [
    "## Train Test Split"
   ]
  },
  {
   "cell_type": "code",
   "execution_count": 9,
   "id": "81c426a4",
   "metadata": {},
   "outputs": [],
   "source": [
    "x_train, x_test, y_train, y_test = train_test_split(data, labels, test_size=0.2, random_state=42)"
   ]
  },
  {
   "cell_type": "code",
   "execution_count": 10,
   "id": "e0ba0f1f",
   "metadata": {},
   "outputs": [],
   "source": [
    "y_train = to_categorical(y_train,20) #원핫 인코딩\n",
    "y_test=to_categorical(y_test,20) #원핫 인코딩"
   ]
  },
  {
   "cell_type": "code",
   "execution_count": 11,
   "id": "639b72a3",
   "metadata": {},
   "outputs": [
    {
     "data": {
      "text/plain": [
       "array([0., 0., 0., 0., 0., 1., 0., 0., 0., 0., 0., 0., 0., 0., 0., 0., 0.,\n",
       "       0., 0., 0.], dtype=float32)"
      ]
     },
     "execution_count": 11,
     "metadata": {},
     "output_type": "execute_result"
    }
   ],
   "source": [
    "y_train[0]\n",
    "y_test[0]"
   ]
  },
  {
   "cell_type": "code",
   "execution_count": 12,
   "id": "0eba839c",
   "metadata": {
    "scrolled": false
   },
   "outputs": [
    {
     "data": {
      "text/plain": [
       "8808"
      ]
     },
     "execution_count": 12,
     "metadata": {},
     "output_type": "execute_result"
    }
   ],
   "source": [
    "len(x_train)\n"
   ]
  },
  {
   "cell_type": "code",
   "execution_count": 13,
   "id": "35451980",
   "metadata": {},
   "outputs": [
    {
     "data": {
      "text/plain": [
       "3775"
      ]
     },
     "execution_count": 13,
     "metadata": {},
     "output_type": "execute_result"
    }
   ],
   "source": [
    "len(x_test)"
   ]
  },
  {
   "cell_type": "markdown",
   "id": "dd3a8c62",
   "metadata": {},
   "source": [
    "## Model : VGG16 + Residual"
   ]
  },
  {
   "attachments": {
    "Dams-Residual+VGG.drawio.png": {
     "image/png": "[encoded data removed]"
    }
   },
   "cell_type": "markdown",
   "id": "d2c033dc",
   "metadata": {},
   "source": [
    "![Dams-Residual+VGG.drawio.png](attachment:Dams-Residual+VGG.drawio.png)"
   ]
  },
  {
   "cell_type": "code",
   "execution_count": 14,
   "id": "1f96feaa",
   "metadata": {},
   "outputs": [],
   "source": [
    "epochs = 100 #학습 반복 수\n",
    "inChannel = 3 # 3채널 고정\n",
    "x, y = 224, 224 # 바꿔서 사용\n",
    "act=ReLU()\n",
    "n_class = 20 #클래스 수\n",
    "lr=0.0001 #learning rate- adam default\n",
    "loss = 'categorical_crossentropy' #손실함수 \n",
    "batch_size=32 #배치사이즈\n",
    "opt=optimizers.Adam(learning_rate=lr)"
   ]
  },
  {
   "cell_type": "code",
   "execution_count": 15,
   "id": "66831f00",
   "metadata": {},
   "outputs": [],
   "source": [
    "# # 모델 여기다 붙여넣기c\n",
    "# def model_fn():\n",
    "#     input_img = Input(shape=(x,y,inChannel))\n",
    "#     vgg = tf.keras.layers.experimental.preprocessing.Rescaling(1./255)(input_img)            \n",
    "#     vgg = tf.keras.layers.experimental.preprocessing.Normalization(mean=IMAGENET_DEFAULT_MEAN, variance=IMAGENET_DEFAULT_VAR)(vgg)   \n",
    "#     vgg = Conv2D(64, (3,3),activation=act,padding='same')(vgg)\n",
    "#     vgg = Conv2D(64,(3,3),activation=act,padding='same')(vgg)\n",
    "#     vgg = MaxPooling2D(pool_size=(2,2))(vgg)\n",
    "\n",
    "#     vgg = Conv2D(128,(3,3),activation=act,padding='same')(vgg)\n",
    "#     vgg = Conv2D(128,(3,3),activation=act,padding='same')(vgg)\n",
    "#     vgg = MaxPooling2D(pool_size=(2,2))(vgg)\n",
    "\n",
    "#     vgg1 = Conv2D(256,(3,3),activation=act,padding='same')(vgg)\n",
    "#     vgg = Conv2D(256,(3,3),activation=act,padding='same')(vgg1)\n",
    "#     vgg = Conv2D(256,(3,3),padding='same')(vgg)\n",
    "#     vgg = add([vgg1,vgg])\n",
    "#     vgg = ReLU()(vgg)\n",
    "#     vgg = MaxPooling2D(pool_size=(2,2))(vgg)\n",
    "\n",
    "#     vgg2 = Conv2D(256,(3,3),activation=act,padding='same')(vgg)\n",
    "#     vgg = Conv2D(256,(3,3),activation=act,padding='same')(vgg2)\n",
    "#     vgg = Conv2D(256,(3,3),padding='same')(vgg)\n",
    "#     vgg = add([vgg2,vgg])\n",
    "#     vgg = ReLU()(vgg)\n",
    "#     vgg = MaxPooling2D(pool_size=(2,2))(vgg)\n",
    "\n",
    "#     vgg3 = Conv2D(512,(3,3),activation=act,padding='same')(vgg)\n",
    "#     vgg = Conv2D(512,(3,3),activation=act,padding='same')(vgg3)\n",
    "#     vgg = Conv2D(512,(3,3),padding='same')(vgg)\n",
    "#     vgg = add([vgg3,vgg])\n",
    "#     vgg = ReLU()(vgg)\n",
    "#     vgg = MaxPooling2D(pool_size=(2,2))(vgg)\n",
    "\n",
    "#     vgg3 = Conv2D(512,(3,3),activation=act,padding='same')(vgg)\n",
    "#     vgg = Conv2D(512,(3,3),activation=act,padding='same')(vgg3)\n",
    "#     vgg = Conv2D(512,(3,3),padding='same')(vgg)\n",
    "#     vgg = add([vgg3,vgg])\n",
    "#     vgg = ReLU()(vgg)\n",
    "#     vgg = MaxPooling2D(pool_size=(2,2))(vgg)\n",
    "\n",
    "#     vgg = Flatten()(vgg)\n",
    "#     vgg = Dense(4096,activation='relu')(vgg)\n",
    "#     vgg = Dense(4096,activation='relu')(vgg)\n",
    "#     vgg = Dense(n_class,activation='softmax')(vgg)\n",
    "\n",
    "#     vgg16 = Model(input_img , vgg)\n",
    "#     return vgg16"
   ]
  },
  {
   "cell_type": "code",
   "execution_count": 16,
   "id": "3b20f246",
   "metadata": {},
   "outputs": [],
   "source": [
    "# # 모델 여기다 붙여넣기\n",
    "# def model_fn():\n",
    "#     input_img = Input(shape=(x,y,inChannel))\n",
    "#     vgg = tf.keras.layers.experimental.preprocessing.Rescaling(1./255)(input_img)\n",
    "#     vgg = tf.keras.layers.experimental.preprocessing.Normalization(mean=(0.485, 0.456, 0.406), \n",
    "#                                                                    variance= (0.229 ** 2, 0.224 ** 2, 0.225 ** 2))(vgg)\n",
    "#     vgg = Conv2D(64, (3,3),activation=act,padding='same')(vgg)\n",
    "#     vgg = Conv2D(64,(3,3),activation=act,padding='same')(vgg)\n",
    "#     vgg = MaxPooling2D(pool_size=(2,2))(vgg)\n",
    "#     vgg = Dropout(0.2)(vgg)\n",
    "\n",
    "#     vgg = Conv2D(128,(3,3),activation=act,padding='same')(vgg)\n",
    "#     vgg = Conv2D(128,(3,3),activation=act,padding='same')(vgg)\n",
    "#     vgg = MaxPooling2D(pool_size=(2,2))(vgg)\n",
    "#     vgg = Dropout(0.2)(vgg)\n",
    "\n",
    "#     vgg1 = Conv2D(256,(3,3),activation=act,padding='same')(vgg)\n",
    "#     vgg = Conv2D(256,(3,3),activation=act,padding='same')(vgg1)\n",
    "#     vgg = Conv2D(256,(3,3),padding='same')(vgg)\n",
    "#     vgg = add([vgg1,vgg])\n",
    "#     vgg = ReLU()(vgg)\n",
    "#     vgg = MaxPooling2D(pool_size=(2,2))(vgg)\n",
    "#     vgg = Dropout(0.2)(vgg)\n",
    "\n",
    "#     vgg2 = Conv2D(256,(3,3),activation=act,padding='same')(vgg)\n",
    "#     vgg = Conv2D(256,(3,3),activation=act,padding='same')(vgg2)\n",
    "#     vgg = Conv2D(256,(3,3),padding='same')(vgg)\n",
    "#     vgg = add([vgg2,vgg])\n",
    "#     vgg = ReLU()(vgg)\n",
    "#     vgg = MaxPooling2D(pool_size=(2,2))(vgg)\n",
    "#     vgg = Dropout(0.2)(vgg)\n",
    "\n",
    "#     vgg3 = Conv2D(512,(3,3),activation=act,padding='same')(vgg)\n",
    "#     vgg = Conv2D(512,(3,3),activation=act,padding='same')(vgg3)\n",
    "#     vgg = Conv2D(512,(3,3),padding='same')(vgg)\n",
    "#     vgg = add([vgg3,vgg])\n",
    "#     vgg = ReLU()(vgg)\n",
    "#     vgg = MaxPooling2D(pool_size=(2,2))(vgg)\n",
    "#     vgg = Dropout(0.2)(vgg)\n",
    "\n",
    "#     vgg3 = Conv2D(512,(3,3),activation=act,padding='same')(vgg)\n",
    "#     vgg = Conv2D(512,(3,3),activation=act,padding='same')(vgg3)\n",
    "#     vgg = Conv2D(512,(3,3),padding='same')(vgg)\n",
    "#     vgg = add([vgg3,vgg])\n",
    "#     vgg = ReLU()(vgg)\n",
    "#     vgg = MaxPooling2D(pool_size=(2,2))(vgg)\n",
    "#     vgg = Dropout(0.2)(vgg)\n",
    "\n",
    "#     vgg = Flatten()(vgg)\n",
    "#     vgg = Dense(4096,activation='relu')(vgg)\n",
    "#     vgg = Dropout(0.2)(vgg)\n",
    "#     vgg = Dense(4096,activation='relu')(vgg)\n",
    "#     vgg = Dropout(0.2)(vgg)\n",
    "#     vgg = Dense(n_class,activation='softmax')(vgg)\n",
    "\n",
    "#     vgg16 = Model(input_img , vgg)\n",
    "#     return vgg16"
   ]
  },
  {
   "cell_type": "code",
   "execution_count": 17,
   "id": "fcd33afd",
   "metadata": {},
   "outputs": [],
   "source": [
    "# 모델 여기다 붙여넣기\n",
    "def model_fn():\n",
    "    input_img = Input(shape=(x,y,inChannel))\n",
    "    vgg = Conv2D(64, (3,3),activation=act,padding='same',kernel_regularizer=regularizers.l2(0.001))(input_img)\n",
    "    vgg = Conv2D(64,(3,3),activation=act,padding='same',kernel_regularizer=regularizers.l2(0.001))(vgg)\n",
    "    vgg = MaxPooling2D(pool_size=(2,2))(vgg)\n",
    "    vgg = Dropout(0.2)(vgg)\n",
    "\n",
    "    vgg = Conv2D(128,(3,3),activation=act,padding='same',kernel_regularizer=regularizers.l2(0.001))(vgg)\n",
    "    vgg = Conv2D(128,(3,3),activation=act,padding='same',kernel_regularizer=regularizers.l2(0.001))(vgg)\n",
    "    vgg = MaxPooling2D(pool_size=(2,2))(vgg)\n",
    "    vgg = Dropout(0.2)(vgg)\n",
    "\n",
    "    vgg1 = Conv2D(256,(3,3),activation=act,padding='same',kernel_regularizer=regularizers.l2(0.001))(vgg)\n",
    "    vgg = Conv2D(256,(3,3),activation=act,padding='same',kernel_regularizer=regularizers.l2(0.001))(vgg1)\n",
    "    vgg = Conv2D(256,(3,3),padding='same',kernel_regularizer=regularizers.l2(0.001))(vgg)\n",
    "    vgg = add([vgg1,vgg])\n",
    "    vgg = ReLU()(vgg)\n",
    "    vgg = MaxPooling2D(pool_size=(2,2))(vgg)\n",
    "    vgg = Dropout(0.2)(vgg)\n",
    "\n",
    "    vgg2 = Conv2D(256,(3,3),activation=act,padding='same',kernel_regularizer=regularizers.l2(0.001))(vgg)\n",
    "    vgg = Conv2D(256,(3,3),activation=act,padding='same',kernel_regularizer=regularizers.l2(0.001))(vgg2)\n",
    "    vgg = Conv2D(256,(3,3),padding='same',kernel_regularizer=regularizers.l2(0.001))(vgg)\n",
    "    vgg = add([vgg2,vgg])\n",
    "    vgg = ReLU()(vgg)\n",
    "    vgg = MaxPooling2D(pool_size=(2,2))(vgg)\n",
    "    vgg = Dropout(0.2)(vgg)\n",
    "\n",
    "    vgg3 = Conv2D(512,(3,3),activation=act,padding='same',kernel_regularizer=regularizers.l2(0.001))(vgg)\n",
    "    vgg = Conv2D(512,(3,3),activation=act,padding='same',kernel_regularizer=regularizers.l2(0.001))(vgg3)\n",
    "    vgg = Conv2D(512,(3,3),padding='same',kernel_regularizer=regularizers.l2(0.001))(vgg)\n",
    "    vgg = add([vgg3,vgg])\n",
    "    vgg = ReLU()(vgg)\n",
    "    vgg = MaxPooling2D(pool_size=(2,2))(vgg)\n",
    "    vgg = Dropout(0.2)(vgg)\n",
    "\n",
    "    vgg3 = Conv2D(512,(3,3),activation=act,padding='same',kernel_regularizer=regularizers.l2(0.001))(vgg)\n",
    "    vgg = Conv2D(512,(3,3),activation=act,padding='same',kernel_regularizer=regularizers.l2(0.001))(vgg3)\n",
    "    vgg = Conv2D(512,(3,3),padding='same',kernel_regularizer=regularizers.l2(0.001))(vgg)\n",
    "    vgg = add([vgg3,vgg])\n",
    "    vgg = ReLU()(vgg)\n",
    "    vgg = MaxPooling2D(pool_size=(2,2))(vgg)\n",
    "    vgg = Dropout(0.2)(vgg)\n",
    "\n",
    "    vgg = Flatten()(vgg)\n",
    "    vgg = Dense(4096,activation='relu')(vgg)\n",
    "    vgg = Dropout(0.2)(vgg)\n",
    "    vgg = Dense(4096,activation='relu')(vgg)\n",
    "    vgg = Dropout(0.2)(vgg)\n",
    "    vgg = Dense(n_class,activation='softmax')(vgg)\n",
    "\n",
    "    vgg16 = Model(input_img , vgg)\n",
    "    return vgg16"
   ]
  },
  {
   "cell_type": "markdown",
   "id": "12bc85c2",
   "metadata": {},
   "source": [
    "## Summary"
   ]
  },
  {
   "cell_type": "code",
   "execution_count": 18,
   "id": "5233ede1",
   "metadata": {
    "scrolled": false
   },
   "outputs": [
    {
     "name": "stdout",
     "output_type": "stream",
     "text": [
      "Model: \"model\"\n",
      "__________________________________________________________________________________________________\n",
      " Layer (type)                   Output Shape         Param #     Connected to                     \n",
      "==================================================================================================\n",
      " input_1 (InputLayer)           [(None, 224, 224, 3  0           []                               \n",
      "                                )]                                                                \n",
      "                                                                                                  \n",
      " conv2d (Conv2D)                (None, 224, 224, 64  1792        ['input_1[0][0]']                \n",
      "                                )                                                                 \n",
      "                                                                                                  \n",
      " conv2d_1 (Conv2D)              (None, 224, 224, 64  36928       ['conv2d[0][0]']                 \n",
      "                                )                                                                 \n",
      "                                                                                                  \n",
      " max_pooling2d (MaxPooling2D)   (None, 112, 112, 64  0           ['conv2d_1[0][0]']               \n",
      "                                )                                                                 \n",
      "                                                                                                  \n",
      " dropout (Dropout)              (None, 112, 112, 64  0           ['max_pooling2d[0][0]']          \n",
      "                                )                                                                 \n",
      "                                                                                                  \n",
      " conv2d_2 (Conv2D)              (None, 112, 112, 12  73856       ['dropout[0][0]']                \n",
      "                                8)                                                                \n",
      "                                                                                                  \n",
      " conv2d_3 (Conv2D)              (None, 112, 112, 12  147584      ['conv2d_2[0][0]']               \n",
      "                                8)                                                                \n",
      "                                                                                                  \n",
      " max_pooling2d_1 (MaxPooling2D)  (None, 56, 56, 128)  0          ['conv2d_3[0][0]']               \n",
      "                                                                                                  \n",
      " dropout_1 (Dropout)            (None, 56, 56, 128)  0           ['max_pooling2d_1[0][0]']        \n",
      "                                                                                                  \n",
      " conv2d_4 (Conv2D)              (None, 56, 56, 256)  295168      ['dropout_1[0][0]']              \n",
      "                                                                                                  \n",
      " conv2d_5 (Conv2D)              (None, 56, 56, 256)  590080      ['conv2d_4[0][0]']               \n",
      "                                                                                                  \n",
      " conv2d_6 (Conv2D)              (None, 56, 56, 256)  590080      ['conv2d_5[0][0]']               \n",
      "                                                                                                  \n",
      " add (Add)                      (None, 56, 56, 256)  0           ['conv2d_4[0][0]',               \n",
      "                                                                  'conv2d_6[0][0]']               \n",
      "                                                                                                  \n",
      " re_lu_1 (ReLU)                 (None, 56, 56, 256)  0           ['add[0][0]']                    \n",
      "                                                                                                  \n",
      " max_pooling2d_2 (MaxPooling2D)  (None, 28, 28, 256)  0          ['re_lu_1[0][0]']                \n",
      "                                                                                                  \n",
      " dropout_2 (Dropout)            (None, 28, 28, 256)  0           ['max_pooling2d_2[0][0]']        \n",
      "                                                                                                  \n",
      " conv2d_7 (Conv2D)              (None, 28, 28, 256)  590080      ['dropout_2[0][0]']              \n",
      "                                                                                                  \n",
      " conv2d_8 (Conv2D)              (None, 28, 28, 256)  590080      ['conv2d_7[0][0]']               \n",
      "                                                                                                  \n",
      " conv2d_9 (Conv2D)              (None, 28, 28, 256)  590080      ['conv2d_8[0][0]']               \n",
      "                                                                                                  \n",
      " add_1 (Add)                    (None, 28, 28, 256)  0           ['conv2d_7[0][0]',               \n",
      "                                                                  'conv2d_9[0][0]']               \n",
      "                                                                                                  \n",
      " re_lu_2 (ReLU)                 (None, 28, 28, 256)  0           ['add_1[0][0]']                  \n",
      "                                                                                                  \n",
      " max_pooling2d_3 (MaxPooling2D)  (None, 14, 14, 256)  0          ['re_lu_2[0][0]']                \n",
      "                                                                                                  \n",
      " dropout_3 (Dropout)            (None, 14, 14, 256)  0           ['max_pooling2d_3[0][0]']        \n",
      "                                                                                                  \n",
      " conv2d_10 (Conv2D)             (None, 14, 14, 512)  1180160     ['dropout_3[0][0]']              \n",
      "                                                                                                  \n",
      " conv2d_11 (Conv2D)             (None, 14, 14, 512)  2359808     ['conv2d_10[0][0]']              \n",
      "                                                                                                  \n",
      " conv2d_12 (Conv2D)             (None, 14, 14, 512)  2359808     ['conv2d_11[0][0]']              \n",
      "                                                                                                  \n",
      " add_2 (Add)                    (None, 14, 14, 512)  0           ['conv2d_10[0][0]',              \n",
      "                                                                  'conv2d_12[0][0]']              \n",
      "                                                                                                  \n",
      " re_lu_3 (ReLU)                 (None, 14, 14, 512)  0           ['add_2[0][0]']                  \n",
      "                                                                                                  \n",
      " max_pooling2d_4 (MaxPooling2D)  (None, 7, 7, 512)   0           ['re_lu_3[0][0]']                \n",
      "                                                                                                  \n",
      " dropout_4 (Dropout)            (None, 7, 7, 512)    0           ['max_pooling2d_4[0][0]']        \n",
      "                                                                                                  \n",
      " conv2d_13 (Conv2D)             (None, 7, 7, 512)    2359808     ['dropout_4[0][0]']              \n",
      "                                                                                                  \n",
      " conv2d_14 (Conv2D)             (None, 7, 7, 512)    2359808     ['conv2d_13[0][0]']              \n",
      "                                                                                                  \n",
      " conv2d_15 (Conv2D)             (None, 7, 7, 512)    2359808     ['conv2d_14[0][0]']              \n",
      "                                                                                                  \n",
      " add_3 (Add)                    (None, 7, 7, 512)    0           ['conv2d_13[0][0]',              \n",
      "                                                                  'conv2d_15[0][0]']              \n",
      "                                                                                                  \n",
      " re_lu_4 (ReLU)                 (None, 7, 7, 512)    0           ['add_3[0][0]']                  \n"
     ]
    },
    {
     "name": "stdout",
     "output_type": "stream",
     "text": [
      "                                                                                                  \n",
      " max_pooling2d_5 (MaxPooling2D)  (None, 3, 3, 512)   0           ['re_lu_4[0][0]']                \n",
      "                                                                                                  \n",
      " dropout_5 (Dropout)            (None, 3, 3, 512)    0           ['max_pooling2d_5[0][0]']        \n",
      "                                                                                                  \n",
      " flatten (Flatten)              (None, 4608)         0           ['dropout_5[0][0]']              \n",
      "                                                                                                  \n",
      " dense (Dense)                  (None, 4096)         18878464    ['flatten[0][0]']                \n",
      "                                                                                                  \n",
      " dropout_6 (Dropout)            (None, 4096)         0           ['dense[0][0]']                  \n",
      "                                                                                                  \n",
      " dense_1 (Dense)                (None, 4096)         16781312    ['dropout_6[0][0]']              \n",
      "                                                                                                  \n",
      " dropout_7 (Dropout)            (None, 4096)         0           ['dense_1[0][0]']                \n",
      "                                                                                                  \n",
      " dense_2 (Dense)                (None, 20)           81940       ['dropout_7[0][0]']              \n",
      "                                                                                                  \n",
      "==================================================================================================\n",
      "Total params: 52,226,644\n",
      "Trainable params: 52,226,644\n",
      "Non-trainable params: 0\n",
      "__________________________________________________________________________________________________\n"
     ]
    }
   ],
   "source": [
    "model= model_fn()\n",
    "model.summary()"
   ]
  },
  {
   "cell_type": "markdown",
   "id": "9b8ee467",
   "metadata": {},
   "source": [
    "## F1-Score / Epoch "
   ]
  },
  {
   "cell_type": "code",
   "execution_count": 19,
   "id": "54058428",
   "metadata": {},
   "outputs": [],
   "source": [
    "#https://stackoverflow.com/questions/43547402/how-to-calculate-f1-macro-in-keras\n",
    "def F1_score(y_true, y_pred):\n",
    "    def recall(y_true, y_pred):\n",
    "        true_positives = K.sum(K.round(K.clip(y_true * y_pred, 0, 1)))\n",
    "        possible_positives = K.sum(K.round(K.clip(y_true, 0, 1)))\n",
    "        recall = true_positives / (possible_positives + K.epsilon())\n",
    "        return recall\n",
    "\n",
    "    def precision(y_true, y_pred):\n",
    "        true_positives = K.sum(K.round(K.clip(y_true * y_pred, 0, 1)))\n",
    "        predicted_positives = K.sum(K.round(K.clip(y_pred, 0, 1)))\n",
    "        precision = true_positives / (predicted_positives + K.epsilon())\n",
    "        return precision\n",
    "    precision = precision(y_true, y_pred)\n",
    "    recall = recall(y_true, y_pred)\n",
    "\n",
    "    return 2*((precision*recall)/(precision+recall+K.epsilon()))"
   ]
  },
  {
   "cell_type": "markdown",
   "id": "f773e74d",
   "metadata": {},
   "source": [
    "## Model Train"
   ]
  },
  {
   "cell_type": "code",
   "execution_count": 20,
   "id": "53faf38b",
   "metadata": {},
   "outputs": [],
   "source": [
    "from keras.callbacks import ModelCheckpoint, EarlyStopping, ReduceLROnPlateau,LearningRateScheduler,Callback\n",
    "\n",
    "#경로 바꿔주기\n",
    "filename = './checkpoint/실험용-{}-batch-{}-trial.ckpt'.format(epochs, batch_size)\n",
    "checkpoint = ModelCheckpoint(filename,             \n",
    "                             monitor='val_F1_score',\n",
    "                             save_weights_only=True,\n",
    "                             verbose=1,           \n",
    "                             save_best_only=True,  \n",
    "                             mode='max'         \n",
    "                            )\n",
    "\n",
    "earlystopping = EarlyStopping(monitor='val_F1_score',  \n",
    "                              patience=6,         \n",
    "                             mode='max'\n",
    "                             )\n",
    "reduce_lr = ReduceLROnPlateau(monitor='val_loss', factor=np.sqrt(0.1), mode='min',cooldown=0,\n",
    "                              patience=10, min_lr=0.000000001)"
   ]
  },
  {
   "cell_type": "code",
   "execution_count": 21,
   "id": "9e18d1b4",
   "metadata": {},
   "outputs": [],
   "source": [
    "trainGenerator = ImageDataGenerator( horizontal_flip=True, vertical_flip=True,\n",
    "                    rotation_range = 10, shear_range=0.2)\n",
    "trainiterator = trainGenerator.flow(x_train, y_train, batch_size=batch_size)\n",
    "\n",
    "testGenerator = ImageDataGenerator()\n",
    "testiterator = testGenerator.flow(x_test, y_test, batch_size=batch_size)\n",
    "\n",
    "vgg16=model_fn()\n",
    "vgg16.compile(loss=loss, optimizer=opt, metrics=['accuracy',F1_score],run_eagerly=True)"
   ]
  },
  {
   "cell_type": "code",
   "execution_count": 22,
   "id": "b8130eab",
   "metadata": {
    "scrolled": false
   },
   "outputs": [
    {
     "name": "stdout",
     "output_type": "stream",
     "text": [
      "Epoch 1/100\n",
      "276/276 [==============================] - ETA: 0s - loss: 5.8568 - accuracy: 0.2131 - F1_score: 0.0119\n",
      "Epoch 1: val_F1_score improved from -inf to 0.00000, saving model to ./checkpoint\\실험용-100-batch-32-trial.ckpt\n",
      "276/276 [==============================] - 77s 266ms/step - loss: 5.8568 - accuracy: 0.2131 - F1_score: 0.0119 - val_loss: 4.7352 - val_accuracy: 0.2164 - val_F1_score: 0.0000e+00 - lr: 1.0000e-04\n",
      "Epoch 2/100\n",
      "276/276 [==============================] - ETA: 0s - loss: 4.0223 - accuracy: 0.2694 - F1_score: 0.0505\n",
      "Epoch 2: val_F1_score improved from 0.00000 to 0.00616, saving model to ./checkpoint\\실험용-100-batch-32-trial.ckpt\n",
      "276/276 [==============================] - 73s 265ms/step - loss: 4.0223 - accuracy: 0.2694 - F1_score: 0.0505 - val_loss: 3.5975 - val_accuracy: 0.3219 - val_F1_score: 0.0062 - lr: 1.0000e-04\n",
      "Epoch 3/100\n",
      "276/276 [==============================] - ETA: 0s - loss: 3.1361 - accuracy: 0.3495 - F1_score: 0.1931\n",
      "Epoch 3: val_F1_score improved from 0.00616 to 0.21871, saving model to ./checkpoint\\실험용-100-batch-32-trial.ckpt\n",
      "276/276 [==============================] - 73s 263ms/step - loss: 3.1361 - accuracy: 0.3495 - F1_score: 0.1931 - val_loss: 2.8044 - val_accuracy: 0.4262 - val_F1_score: 0.2187 - lr: 1.0000e-04\n",
      "Epoch 4/100\n",
      "276/276 [==============================] - ETA: 0s - loss: 2.5592 - accuracy: 0.4443 - F1_score: 0.3577\n",
      "Epoch 4: val_F1_score improved from 0.21871 to 0.37710, saving model to ./checkpoint\\실험용-100-batch-32-trial.ckpt\n",
      "276/276 [==============================] - 73s 265ms/step - loss: 2.5592 - accuracy: 0.4443 - F1_score: 0.3577 - val_loss: 2.3157 - val_accuracy: 0.5131 - val_F1_score: 0.3771 - lr: 1.0000e-04\n",
      "Epoch 5/100\n",
      "276/276 [==============================] - ETA: 0s - loss: 2.1266 - accuracy: 0.5378 - F1_score: 0.4833\n",
      "Epoch 5: val_F1_score improved from 0.37710 to 0.51501, saving model to ./checkpoint\\실험용-100-batch-32-trial.ckpt\n",
      "276/276 [==============================] - 73s 265ms/step - loss: 2.1266 - accuracy: 0.5378 - F1_score: 0.4833 - val_loss: 1.9526 - val_accuracy: 0.6016 - val_F1_score: 0.5150 - lr: 1.0000e-04\n",
      "Epoch 6/100\n",
      "276/276 [==============================] - ETA: 0s - loss: 1.8263 - accuracy: 0.6057 - F1_score: 0.5800\n",
      "Epoch 6: val_F1_score improved from 0.51501 to 0.60350, saving model to ./checkpoint\\실험용-100-batch-32-trial.ckpt\n",
      "276/276 [==============================] - 75s 271ms/step - loss: 1.8263 - accuracy: 0.6057 - F1_score: 0.5800 - val_loss: 1.7355 - val_accuracy: 0.6297 - val_F1_score: 0.6035 - lr: 1.0000e-04\n",
      "Epoch 7/100\n",
      "276/276 [==============================] - ETA: 0s - loss: 1.6114 - accuracy: 0.6603 - F1_score: 0.6402\n",
      "Epoch 7: val_F1_score improved from 0.60350 to 0.68212, saving model to ./checkpoint\\실험용-100-batch-32-trial.ckpt\n",
      "276/276 [==============================] - 73s 265ms/step - loss: 1.6114 - accuracy: 0.6603 - F1_score: 0.6402 - val_loss: 1.4759 - val_accuracy: 0.6972 - val_F1_score: 0.6821 - lr: 1.0000e-04\n",
      "Epoch 8/100\n",
      "276/276 [==============================] - ETA: 0s - loss: 1.4132 - accuracy: 0.7084 - F1_score: 0.7013\n",
      "Epoch 8: val_F1_score improved from 0.68212 to 0.71875, saving model to ./checkpoint\\실험용-100-batch-32-trial.ckpt\n",
      "276/276 [==============================] - 74s 268ms/step - loss: 1.4132 - accuracy: 0.7084 - F1_score: 0.7013 - val_loss: 1.3805 - val_accuracy: 0.7250 - val_F1_score: 0.7187 - lr: 1.0000e-04\n",
      "Epoch 9/100\n",
      "276/276 [==============================] - ETA: 0s - loss: 1.2970 - accuracy: 0.7364 - F1_score: 0.7328\n",
      "Epoch 9: val_F1_score improved from 0.71875 to 0.76879, saving model to ./checkpoint\\실험용-100-batch-32-trial.ckpt\n",
      "276/276 [==============================] - 74s 266ms/step - loss: 1.2970 - accuracy: 0.7364 - F1_score: 0.7328 - val_loss: 1.2173 - val_accuracy: 0.7637 - val_F1_score: 0.7688 - lr: 1.0000e-04\n",
      "Epoch 10/100\n",
      "276/276 [==============================] - ETA: 0s - loss: 1.1404 - accuracy: 0.7751 - F1_score: 0.7745\n",
      "Epoch 10: val_F1_score improved from 0.76879 to 0.77187, saving model to ./checkpoint\\실험용-100-batch-32-trial.ckpt\n",
      "276/276 [==============================] - 74s 266ms/step - loss: 1.1404 - accuracy: 0.7751 - F1_score: 0.7745 - val_loss: 1.1712 - val_accuracy: 0.7698 - val_F1_score: 0.7719 - lr: 1.0000e-04\n",
      "Epoch 11/100\n",
      "276/276 [==============================] - ETA: 0s - loss: 1.0552 - accuracy: 0.7946 - F1_score: 0.7954\n",
      "Epoch 11: val_F1_score improved from 0.77187 to 0.80346, saving model to ./checkpoint\\실험용-100-batch-32-trial.ckpt\n",
      "276/276 [==============================] - 75s 271ms/step - loss: 1.0552 - accuracy: 0.7946 - F1_score: 0.7954 - val_loss: 1.0752 - val_accuracy: 0.7976 - val_F1_score: 0.8035 - lr: 1.0000e-04\n",
      "Epoch 12/100\n",
      "276/276 [==============================] - ETA: 0s - loss: 0.8658 - accuracy: 0.8588 - F1_score: 0.8600\n",
      "Epoch 12: val_F1_score improved from 0.80346 to 0.83787, saving model to ./checkpoint\\실험용-100-batch-32-trial.ckpt\n",
      "276/276 [==============================] - 73s 266ms/step - loss: 0.8658 - accuracy: 0.8588 - F1_score: 0.8600 - val_loss: 0.9811 - val_accuracy: 0.8270 - val_F1_score: 0.8379 - lr: 3.1623e-05\n",
      "Epoch 13/100\n",
      "276/276 [==============================] - ETA: 0s - loss: 0.7970 - accuracy: 0.8738 - F1_score: 0.8770\n",
      "Epoch 13: val_F1_score improved from 0.83787 to 0.84455, saving model to ./checkpoint\\실험용-100-batch-32-trial.ckpt\n",
      "276/276 [==============================] - 75s 271ms/step - loss: 0.7970 - accuracy: 0.8738 - F1_score: 0.8770 - val_loss: 0.9556 - val_accuracy: 0.8376 - val_F1_score: 0.8445 - lr: 3.1623e-05\n",
      "Epoch 14/100\n",
      "276/276 [==============================] - ETA: 0s - loss: 0.7598 - accuracy: 0.8844 - F1_score: 0.8864\n",
      "Epoch 14: val_F1_score improved from 0.84455 to 0.85465, saving model to ./checkpoint\\실험용-100-batch-32-trial.ckpt\n",
      "276/276 [==============================] - 74s 266ms/step - loss: 0.7598 - accuracy: 0.8844 - F1_score: 0.8864 - val_loss: 0.9013 - val_accuracy: 0.8487 - val_F1_score: 0.8546 - lr: 3.1623e-05\n",
      "Epoch 15/100\n",
      "276/276 [==============================] - ETA: 0s - loss: 0.7223 - accuracy: 0.8901 - F1_score: 0.8911\n",
      "Epoch 15: val_F1_score improved from 0.85465 to 0.86638, saving model to ./checkpoint\\실험용-100-batch-32-trial.ckpt\n",
      "276/276 [==============================] - 73s 266ms/step - loss: 0.7223 - accuracy: 0.8901 - F1_score: 0.8911 - val_loss: 0.8779 - val_accuracy: 0.8567 - val_F1_score: 0.8664 - lr: 3.1623e-05\n",
      "Epoch 16/100\n",
      "276/276 [==============================] - ETA: 0s - loss: 0.6850 - accuracy: 0.9025 - F1_score: 0.9043\n",
      "Epoch 16: val_F1_score did not improve from 0.86638\n",
      "276/276 [==============================] - 73s 263ms/step - loss: 0.6850 - accuracy: 0.9025 - F1_score: 0.9043 - val_loss: 0.8826 - val_accuracy: 0.8607 - val_F1_score: 0.8648 - lr: 3.1623e-05\n",
      "Epoch 17/100\n",
      "276/276 [==============================] - ETA: 0s - loss: 0.6656 - accuracy: 0.9074 - F1_score: 0.9081\n",
      "Epoch 17: val_F1_score did not improve from 0.86638\n",
      "276/276 [==============================] - 72s 261ms/step - loss: 0.6656 - accuracy: 0.9074 - F1_score: 0.9081 - val_loss: 0.8978 - val_accuracy: 0.8548 - val_F1_score: 0.8607 - lr: 3.1623e-05\n",
      "Epoch 18/100\n",
      "276/276 [==============================] - ETA: 0s - loss: 0.6181 - accuracy: 0.9197 - F1_score: 0.9203\n",
      "Epoch 18: val_F1_score did not improve from 0.86638\n",
      "276/276 [==============================] - 73s 265ms/step - loss: 0.6181 - accuracy: 0.9197 - F1_score: 0.9203 - val_loss: 0.9226 - val_accuracy: 0.8525 - val_F1_score: 0.8616 - lr: 3.1623e-05\n",
      "Epoch 19/100\n",
      "276/276 [==============================] - ETA: 0s - loss: 0.6065 - accuracy: 0.9210 - F1_score: 0.9196\n",
      "Epoch 19: val_F1_score improved from 0.86638 to 0.87537, saving model to ./checkpoint\\실험용-100-batch-32-trial.ckpt\n",
      "276/276 [==============================] - 74s 267ms/step - loss: 0.6065 - accuracy: 0.9210 - F1_score: 0.9196 - val_loss: 0.8580 - val_accuracy: 0.8689 - val_F1_score: 0.8754 - lr: 3.1623e-05\n",
      "Epoch 20/100\n",
      "276/276 [==============================] - ETA: 0s - loss: 0.5864 - accuracy: 0.9250 - F1_score: 0.9264\n",
      "Epoch 20: val_F1_score improved from 0.87537 to 0.88452, saving model to ./checkpoint\\실험용-100-batch-32-trial.ckpt\n",
      "276/276 [==============================] - 75s 271ms/step - loss: 0.5864 - accuracy: 0.9250 - F1_score: 0.9264 - val_loss: 0.8168 - val_accuracy: 0.8771 - val_F1_score: 0.8845 - lr: 3.1623e-05\n"
     ]
    },
    {
     "name": "stdout",
     "output_type": "stream",
     "text": [
      "Epoch 21/100\n",
      "276/276 [==============================] - ETA: 0s - loss: 0.5848 - accuracy: 0.9263 - F1_score: 0.9273\n",
      "Epoch 21: val_F1_score did not improve from 0.88452\n",
      "276/276 [==============================] - 73s 263ms/step - loss: 0.5848 - accuracy: 0.9263 - F1_score: 0.9273 - val_loss: 0.8247 - val_accuracy: 0.8705 - val_F1_score: 0.8764 - lr: 3.1623e-05\n",
      "Epoch 22/100\n",
      "276/276 [==============================] - ETA: 0s - loss: 0.5280 - accuracy: 0.9437 - F1_score: 0.9422\n",
      "Epoch 22: val_F1_score improved from 0.88452 to 0.89138, saving model to ./checkpoint\\실험용-100-batch-32-trial.ckpt\n",
      "276/276 [==============================] - 73s 265ms/step - loss: 0.5280 - accuracy: 0.9437 - F1_score: 0.9422 - val_loss: 0.8078 - val_accuracy: 0.8858 - val_F1_score: 0.8914 - lr: 1.0000e-05\n",
      "Epoch 23/100\n",
      "276/276 [==============================] - ETA: 0s - loss: 0.5111 - accuracy: 0.9454 - F1_score: 0.9457\n",
      "Epoch 23: val_F1_score improved from 0.89138 to 0.89150, saving model to ./checkpoint\\실험용-100-batch-32-trial.ckpt\n",
      "276/276 [==============================] - 74s 269ms/step - loss: 0.5111 - accuracy: 0.9454 - F1_score: 0.9457 - val_loss: 0.8021 - val_accuracy: 0.8864 - val_F1_score: 0.8915 - lr: 1.0000e-05\n",
      "Epoch 24/100\n",
      "276/276 [==============================] - ETA: 0s - loss: 0.4917 - accuracy: 0.9546 - F1_score: 0.9552\n",
      "Epoch 24: val_F1_score improved from 0.89150 to 0.89338, saving model to ./checkpoint\\실험용-100-batch-32-trial.ckpt\n",
      "276/276 [==============================] - 74s 266ms/step - loss: 0.4917 - accuracy: 0.9546 - F1_score: 0.9552 - val_loss: 0.8189 - val_accuracy: 0.8887 - val_F1_score: 0.8934 - lr: 1.0000e-05\n",
      "Epoch 25/100\n",
      "276/276 [==============================] - ETA: 0s - loss: 0.4876 - accuracy: 0.9558 - F1_score: 0.9565\n",
      "Epoch 25: val_F1_score improved from 0.89338 to 0.89504, saving model to ./checkpoint\\실험용-100-batch-32-trial.ckpt\n",
      "276/276 [==============================] - 75s 271ms/step - loss: 0.4876 - accuracy: 0.9558 - F1_score: 0.9565 - val_loss: 0.8170 - val_accuracy: 0.8858 - val_F1_score: 0.8950 - lr: 1.0000e-05\n",
      "Epoch 26/100\n",
      "276/276 [==============================] - ETA: 0s - loss: 0.4758 - accuracy: 0.9572 - F1_score: 0.9569\n",
      "Epoch 26: val_F1_score improved from 0.89504 to 0.89767, saving model to ./checkpoint\\실험용-100-batch-32-trial.ckpt\n",
      "276/276 [==============================] - 74s 267ms/step - loss: 0.4758 - accuracy: 0.9572 - F1_score: 0.9569 - val_loss: 0.8113 - val_accuracy: 0.8903 - val_F1_score: 0.8977 - lr: 1.0000e-05\n",
      "Epoch 27/100\n",
      "276/276 [==============================] - ETA: 0s - loss: 0.4777 - accuracy: 0.9567 - F1_score: 0.9569\n",
      "Epoch 27: val_F1_score improved from 0.89767 to 0.90089, saving model to ./checkpoint\\실험용-100-batch-32-trial.ckpt\n",
      "276/276 [==============================] - 74s 267ms/step - loss: 0.4777 - accuracy: 0.9567 - F1_score: 0.9569 - val_loss: 0.8039 - val_accuracy: 0.8938 - val_F1_score: 0.9009 - lr: 1.0000e-05\n",
      "Epoch 28/100\n",
      "276/276 [==============================] - ETA: 0s - loss: 0.4695 - accuracy: 0.9586 - F1_score: 0.9588\n",
      "Epoch 28: val_F1_score did not improve from 0.90089\n",
      "276/276 [==============================] - 73s 265ms/step - loss: 0.4695 - accuracy: 0.9586 - F1_score: 0.9588 - val_loss: 0.8180 - val_accuracy: 0.8903 - val_F1_score: 0.8967 - lr: 1.0000e-05\n",
      "Epoch 29/100\n",
      "276/276 [==============================] - ETA: 0s - loss: 0.4551 - accuracy: 0.9630 - F1_score: 0.9641\n",
      "Epoch 29: val_F1_score did not improve from 0.90089\n",
      "276/276 [==============================] - 73s 263ms/step - loss: 0.4551 - accuracy: 0.9630 - F1_score: 0.9641 - val_loss: 0.8158 - val_accuracy: 0.8954 - val_F1_score: 0.9007 - lr: 1.0000e-05\n",
      "Epoch 30/100\n",
      "276/276 [==============================] - ETA: 0s - loss: 0.4552 - accuracy: 0.9636 - F1_score: 0.9640\n",
      "Epoch 30: val_F1_score improved from 0.90089 to 0.90339, saving model to ./checkpoint\\실험용-100-batch-32-trial.ckpt\n",
      "276/276 [==============================] - 73s 266ms/step - loss: 0.4552 - accuracy: 0.9636 - F1_score: 0.9640 - val_loss: 0.8125 - val_accuracy: 0.8977 - val_F1_score: 0.9034 - lr: 1.0000e-05\n",
      "Epoch 31/100\n",
      "276/276 [==============================] - ETA: 0s - loss: 0.4497 - accuracy: 0.9638 - F1_score: 0.9626\n",
      "Epoch 31: val_F1_score improved from 0.90339 to 0.90341, saving model to ./checkpoint\\실험용-100-batch-32-trial.ckpt\n",
      "276/276 [==============================] - 74s 268ms/step - loss: 0.4497 - accuracy: 0.9638 - F1_score: 0.9626 - val_loss: 0.8082 - val_accuracy: 0.8967 - val_F1_score: 0.9034 - lr: 1.0000e-05\n",
      "Epoch 32/100\n",
      "276/276 [==============================] - ETA: 0s - loss: 0.4337 - accuracy: 0.9682 - F1_score: 0.9681\n",
      "Epoch 32: val_F1_score did not improve from 0.90341\n",
      "276/276 [==============================] - 72s 261ms/step - loss: 0.4337 - accuracy: 0.9682 - F1_score: 0.9681 - val_loss: 0.8059 - val_accuracy: 0.8970 - val_F1_score: 0.9029 - lr: 3.1623e-06\n",
      "Epoch 33/100\n",
      "276/276 [==============================] - ETA: 0s - loss: 0.4380 - accuracy: 0.9663 - F1_score: 0.9663\n",
      "Epoch 33: val_F1_score did not improve from 0.90341\n",
      "276/276 [==============================] - 73s 263ms/step - loss: 0.4380 - accuracy: 0.9663 - F1_score: 0.9663 - val_loss: 0.8099 - val_accuracy: 0.8972 - val_F1_score: 0.9013 - lr: 3.1623e-06\n",
      "Epoch 34/100\n",
      "276/276 [==============================] - ETA: 0s - loss: 0.4336 - accuracy: 0.9680 - F1_score: 0.9676\n",
      "Epoch 34: val_F1_score improved from 0.90341 to 0.90356, saving model to ./checkpoint\\실험용-100-batch-32-trial.ckpt\n",
      "276/276 [==============================] - 74s 268ms/step - loss: 0.4336 - accuracy: 0.9680 - F1_score: 0.9676 - val_loss: 0.8120 - val_accuracy: 0.8991 - val_F1_score: 0.9036 - lr: 3.1623e-06\n",
      "Epoch 35/100\n",
      "276/276 [==============================] - ETA: 0s - loss: 0.4202 - accuracy: 0.9712 - F1_score: 0.9716\n",
      "Epoch 35: val_F1_score improved from 0.90356 to 0.90405, saving model to ./checkpoint\\실험용-100-batch-32-trial.ckpt\n",
      "276/276 [==============================] - 74s 266ms/step - loss: 0.4202 - accuracy: 0.9712 - F1_score: 0.9716 - val_loss: 0.8099 - val_accuracy: 0.9017 - val_F1_score: 0.9041 - lr: 3.1623e-06\n",
      "Epoch 36/100\n",
      "276/276 [==============================] - ETA: 0s - loss: 0.4247 - accuracy: 0.9721 - F1_score: 0.9724\n",
      "Epoch 36: val_F1_score did not improve from 0.90405\n",
      "276/276 [==============================] - 73s 264ms/step - loss: 0.4247 - accuracy: 0.9721 - F1_score: 0.9724 - val_loss: 0.8169 - val_accuracy: 0.8991 - val_F1_score: 0.9019 - lr: 3.1623e-06\n",
      "Epoch 37/100\n",
      "276/276 [==============================] - ETA: 0s - loss: 0.4192 - accuracy: 0.9728 - F1_score: 0.9725\n",
      "Epoch 37: val_F1_score did not improve from 0.90405\n",
      "276/276 [==============================] - 72s 261ms/step - loss: 0.4192 - accuracy: 0.9728 - F1_score: 0.9725 - val_loss: 0.8132 - val_accuracy: 0.8999 - val_F1_score: 0.9040 - lr: 3.1623e-06\n",
      "Epoch 38/100\n",
      "276/276 [==============================] - ETA: 0s - loss: 0.4319 - accuracy: 0.9689 - F1_score: 0.9692\n",
      "Epoch 38: val_F1_score improved from 0.90405 to 0.90528, saving model to ./checkpoint\\실험용-100-batch-32-trial.ckpt\n",
      "276/276 [==============================] - 74s 269ms/step - loss: 0.4319 - accuracy: 0.9689 - F1_score: 0.9692 - val_loss: 0.8067 - val_accuracy: 0.9009 - val_F1_score: 0.9053 - lr: 3.1623e-06\n",
      "Epoch 39/100\n",
      "276/276 [==============================] - ETA: 0s - loss: 0.4245 - accuracy: 0.9710 - F1_score: 0.9707\n",
      "Epoch 39: val_F1_score improved from 0.90528 to 0.90690, saving model to ./checkpoint\\실험용-100-batch-32-trial.ckpt\n",
      "276/276 [==============================] - 74s 268ms/step - loss: 0.4245 - accuracy: 0.9710 - F1_score: 0.9707 - val_loss: 0.8067 - val_accuracy: 0.9025 - val_F1_score: 0.9069 - lr: 3.1623e-06\n",
      "Epoch 40/100\n",
      "276/276 [==============================] - ETA: 0s - loss: 0.4234 - accuracy: 0.9692 - F1_score: 0.9691\n",
      "Epoch 40: val_F1_score improved from 0.90690 to 0.90725, saving model to ./checkpoint\\실험용-100-batch-32-trial.ckpt\n",
      "276/276 [==============================] - 73s 266ms/step - loss: 0.4234 - accuracy: 0.9692 - F1_score: 0.9691 - val_loss: 0.8034 - val_accuracy: 0.9017 - val_F1_score: 0.9072 - lr: 3.1623e-06\n",
      "Epoch 41/100\n",
      "276/276 [==============================] - ETA: 0s - loss: 0.4187 - accuracy: 0.9709 - F1_score: 0.9709\n",
      "Epoch 41: val_F1_score did not improve from 0.90725\n"
     ]
    },
    {
     "name": "stdout",
     "output_type": "stream",
     "text": [
      "276/276 [==============================] - 73s 264ms/step - loss: 0.4187 - accuracy: 0.9709 - F1_score: 0.9709 - val_loss: 0.8131 - val_accuracy: 0.9001 - val_F1_score: 0.9039 - lr: 3.1623e-06\n",
      "Epoch 42/100\n",
      "276/276 [==============================] - ETA: 0s - loss: 0.4097 - accuracy: 0.9749 - F1_score: 0.9756\n",
      "Epoch 52: val_F1_score improved from 0.90756 to 0.90756, saving model to ./checkpoint\\실험용-100-batch-32-trial.ckpt\n",
      "276/276 [==============================] - 74s 266ms/step - loss: 0.4097 - accuracy: 0.9749 - F1_score: 0.9756 - val_loss: 0.8184 - val_accuracy: 0.9033 - val_F1_score: 0.9076 - lr: 3.1623e-07\n",
      "Epoch 53/100\n",
      "276/276 [==============================] - ETA: 0s - loss: 0.4042 - accuracy: 0.9759 - F1_score: 0.9767\n",
      "Epoch 53: val_F1_score did not improve from 0.90756\n",
      "276/276 [==============================] - 74s 266ms/step - loss: 0.4042 - accuracy: 0.9759 - F1_score: 0.9767 - val_loss: 0.8191 - val_accuracy: 0.9028 - val_F1_score: 0.9065 - lr: 3.1623e-07\n",
      "Epoch 54/100\n",
      "276/276 [==============================] - ETA: 0s - loss: 0.4077 - accuracy: 0.9767 - F1_score: 0.9763\n",
      "Epoch 54: val_F1_score did not improve from 0.90756\n",
      "276/276 [==============================] - 73s 264ms/step - loss: 0.4077 - accuracy: 0.9767 - F1_score: 0.9763 - val_loss: 0.8184 - val_accuracy: 0.9015 - val_F1_score: 0.9068 - lr: 3.1623e-07\n",
      "Epoch 55/100\n",
      "276/276 [==============================] - ETA: 0s - loss: 0.4038 - accuracy: 0.9762 - F1_score: 0.9755\n",
      "Epoch 55: val_F1_score did not improve from 0.90756\n",
      "276/276 [==============================] - 73s 263ms/step - loss: 0.4038 - accuracy: 0.9762 - F1_score: 0.9755 - val_loss: 0.8195 - val_accuracy: 0.9023 - val_F1_score: 0.9058 - lr: 3.1623e-07\n",
      "Epoch 56/100\n",
      "276/276 [==============================] - ETA: 0s - loss: 0.4086 - accuracy: 0.9749 - F1_score: 0.9747\n",
      "Epoch 56: val_F1_score did not improve from 0.90756\n",
      "276/276 [==============================] - 73s 264ms/step - loss: 0.4086 - accuracy: 0.9749 - F1_score: 0.9747 - val_loss: 0.8182 - val_accuracy: 0.9030 - val_F1_score: 0.9070 - lr: 3.1623e-07\n",
      "Epoch 57/100\n",
      "276/276 [==============================] - ETA: 0s - loss: 0.4061 - accuracy: 0.9756 - F1_score: 0.9759\n",
      "Epoch 57: val_F1_score did not improve from 0.90756\n",
      "276/276 [==============================] - 72s 261ms/step - loss: 0.4061 - accuracy: 0.9756 - F1_score: 0.9759 - val_loss: 0.8183 - val_accuracy: 0.9020 - val_F1_score: 0.9067 - lr: 3.1623e-07\n",
      "Epoch 58/100\n",
      "276/276 [==============================] - ETA: 0s - loss: 0.4082 - accuracy: 0.9754 - F1_score: 0.9751\n",
      "Epoch 58: val_F1_score did not improve from 0.90756\n",
      "276/276 [==============================] - 73s 266ms/step - loss: 0.4082 - accuracy: 0.9754 - F1_score: 0.9751 - val_loss: 0.8190 - val_accuracy: 0.9028 - val_F1_score: 0.9061 - lr: 3.1623e-07\n"
     ]
    }
   ],
   "source": [
    "vgg_train = vgg16.fit(trainiterator,\n",
    "                      epochs=epochs,\n",
    "                      validation_data= testiterator, verbose=1,callbacks=[checkpoint,earlystopping,reduce_lr]\n",
    "                                   )"
   ]
  },
  {
   "cell_type": "code",
   "execution_count": 23,
   "id": "8d611ca5",
   "metadata": {},
   "outputs": [
    {
     "data": {
      "text/plain": [
       "<tensorflow.python.training.tracking.util.CheckpointLoadStatus at 0x265b9f75130>"
      ]
     },
     "execution_count": 23,
     "metadata": {},
     "output_type": "execute_result"
    }
   ],
   "source": [
    "#모델 불러올 땐 학습 코드 꼭 주석하고 load_weights활성화\n",
    "vgg16.load_weights(filename)\n",
    "#vgg16.load_weights(\"./checkpoint/10_31-10-batch-32-trial.ckpt\")"
   ]
  },
  {
   "cell_type": "code",
   "execution_count": 24,
   "id": "9b060eb9",
   "metadata": {},
   "outputs": [
    {
     "name": "stdout",
     "output_type": "stream",
     "text": [
      "118/118 [==============================] - 6s 50ms/step\n"
     ]
    }
   ],
   "source": [
    "pred = vgg16.predict(testiterator.x, verbose=1)"
   ]
  },
  {
   "cell_type": "code",
   "execution_count": 28,
   "id": "3ad3c9e3",
   "metadata": {},
   "outputs": [
    {
     "data": {
      "image/png": "[encoded data removed]",
      "text/plain": [
       "<Figure size 432x288 with 1 Axes>"
      ]
     },
     "metadata": {
      "needs_background": "light"
     },
     "output_type": "display_data"
    }
   ],
   "source": [
    "cae_loss = vgg_train.history['loss']\n",
    "cae_val_loss = vgg_train.history['val_loss']\n",
    "epochs = range(58)\n",
    "plt.figure()\n",
    "plt.plot(epochs, cae_loss, 'b', label=\"train\")\n",
    "plt.plot(epochs, cae_val_loss, 'r', label=\"test\")\n",
    "plt.xlabel(\"epoch\")\n",
    "plt.ylabel(\"loss\")\n",
    "plt.legend()\n",
    "plt.show()"
   ]
  },
  {
   "cell_type": "code",
   "execution_count": 32,
   "id": "f249e85d",
   "metadata": {},
   "outputs": [
    {
     "data": {
      "image/png": "[encoded data removed]",
      "text/plain": [
       "<Figure size 432x288 with 1 Axes>"
      ]
     },
     "metadata": {
      "needs_background": "light"
     },
     "output_type": "display_data"
    }
   ],
   "source": [
    "cae_loss = vgg_train.history['accuracy']\n",
    "cae_val_loss = vgg_train.history['val_accuracy']\n",
    "epochs = range(58)\n",
    "plt.figure()\n",
    "plt.plot(epochs, cae_loss, 'b', label=\"train\")\n",
    "plt.plot(epochs, cae_val_loss, 'r', label=\"test\")\n",
    "plt.xlabel(\"epoch\")\n",
    "plt.ylabel(\"Accuracy\")\n",
    "plt.legend()\n",
    "plt.show()"
   ]
  },
  {
   "cell_type": "code",
   "execution_count": 33,
   "id": "5f3a2dfb",
   "metadata": {},
   "outputs": [
    {
     "data": {
      "image/png": "[encoded data removed]",
      "text/plain": [
       "<Figure size 432x288 with 1 Axes>"
      ]
     },
     "metadata": {
      "needs_background": "light"
     },
     "output_type": "display_data"
    }
   ],
   "source": [
    "### cae_loss = vgg_train.history['F1_score']\n",
    "cae_val_loss = vgg_train.history['val_F1_score']\n",
    "epochs = range(58)\n",
    "plt.figure()\n",
    "plt.plot(epochs, cae_loss, 'b', label=\"train\")\n",
    "plt.plot(epochs, cae_val_loss, 'r', label=\"test\")\n",
    "plt.xlabel(\"epoch\")\n",
    "plt.ylabel(\"F1-Score\")\n",
    "plt.legend()\n",
    "plt.show()"
   ]
  },
  {
   "cell_type": "code",
   "execution_count": null,
   "id": "cad23c24",
   "metadata": {},
   "outputs": [],
   "source": []
  },
  {
   "cell_type": "code",
   "execution_count": null,
   "id": "b661a007",
   "metadata": {},
   "outputs": [],
   "source": []
  },
  {
   "cell_type": "code",
   "execution_count": 25,
   "id": "65f3dd71",
   "metadata": {},
   "outputs": [],
   "source": [
    "y_pred=[]\n",
    "y_true=[]\n",
    "for i in range(len(pred)):\n",
    "    tmp1 = pred[i].argmax() \n",
    "    tmp2 = testiterator.y[i].argmax() \n",
    "    y_pred.append(tmp1)\n",
    "    y_true.append(tmp2)\n",
    "\n",
    "result_f1=f1_score(y_true, y_pred, average = None)"
   ]
  },
  {
   "cell_type": "code",
   "execution_count": 26,
   "id": "4b6dc5ac",
   "metadata": {},
   "outputs": [
    {
     "name": "stdout",
     "output_type": "stream",
     "text": [
      "각 클래스별 F1-Score의 평균: 0.8574383848561651 \n",
      "[[ 52   0   0   0   0   0   0   0   0   0   1   2   0   1   1   1   1   1\n",
      "    0   0]\n",
      " [  0 558   0   3   1   0   2   0   0   0   0   0   0   0   0   1   0   0\n",
      "    0   0]\n",
      " [  0   1  23   5   1   0   0   1   0   0   0   0   0   0   0   1   0   0\n",
      "    1   0]\n",
      " [  0   0   4 460   0   0   0   1   0   0   0   0   0   0   0   0   0   0\n",
      "    0   0]\n",
      " [  0   2   2   0 115   0   0   0   2   0   0   0   1   0   0   2   1   1\n",
      "    0   0]\n",
      " [  0  10   1   0   0  91   4   4   0   6   5   1   0   0   0   1   0   3\n",
      "    1   1]\n",
      " [  0   2   0   1   3   1  85   7   2   4   1   2   3   1   1   2   2  10\n",
      "    1   1]\n",
      " [  0   0   0   1   1   0   2 195   2   7   0   0   0   0   0   0   3   1\n",
      "    1   0]\n",
      " [  1   2   0   3   5   0   1   3 103   0   1   2   7   0   0   0   3   5\n",
      "    4   1]\n",
      " [  3   1   0   1   1   1   2   3   1  79   1   0   1   1   1   0   3   1\n",
      "    0   3]\n",
      " [  0   0   0   0   0   1   0   0   4   1 177   2   2   1   2   2   4   1\n",
      "    0   0]\n",
      " [  1   0   0   0   0   2   0   0   0   3   2 117   0   0   1   0   0   2\n",
      "    0   0]\n",
      " [  0   0   1   3   2   0   0   1   0   1   1   0 118   1   2   0   1   4\n",
      "    1   0]\n",
      " [  0   0   0   0   1   0   1   1   0   1   0   0   0  50   0   2   0   0\n",
      "    0   0]\n",
      " [  0   0   0   0   0   0   0   0   3   0   1   1   4   1  56   1   1   1\n",
      "    0   1]\n",
      " [  0   3   1   0   0   0   0   1   1   0   3   0   1   1   0 144   1   0\n",
      "    1   0]\n",
      " [  1   2   0   0   4   2   3   2   2   1   1   2   4   1   2   4 146   2\n",
      "    3   0]\n",
      " [  0   0   0   0   4   1   1   2   0   3   0   0   2   0   0   0   1 647\n",
      "    1   1]\n",
      " [  0   0   0   0   1   0   4   0   2   0   2   1   0   1   0   1   0   4\n",
      "   85   0]\n",
      " [  0   1   0   0   2   1   1   3   1   0   1   0   0   0   0   0   0   1\n",
      "    2 109]]\n",
      "              precision    recall  f1-score   support\n",
      "\n",
      "           0     0.8966    0.8667    0.8814        60\n",
      "           1     0.9588    0.9876    0.9730       565\n",
      "           2     0.7188    0.6970    0.7077        33\n",
      "           3     0.9644    0.9892    0.9766       465\n",
      "           4     0.8156    0.9127    0.8614       126\n",
      "           5     0.9100    0.7109    0.7982       128\n",
      "           6     0.8019    0.6589    0.7234       129\n",
      "           7     0.8705    0.9155    0.8924       213\n",
      "           8     0.8374    0.7305    0.7803       141\n",
      "           9     0.7453    0.7670    0.7560       103\n",
      "          10     0.8985    0.8985    0.8985       197\n",
      "          11     0.9000    0.9141    0.9070       128\n",
      "          12     0.8252    0.8676    0.8459       136\n",
      "          13     0.8475    0.8929    0.8696        56\n",
      "          14     0.8485    0.8000    0.8235        70\n",
      "          15     0.8889    0.9172    0.9028       157\n",
      "          16     0.8743    0.8022    0.8367       182\n",
      "          17     0.9459    0.9759    0.9607       663\n",
      "          18     0.8416    0.8416    0.8416       101\n",
      "          19     0.9316    0.8934    0.9121       122\n",
      "\n",
      "    accuracy                         0.9033      3775\n",
      "   macro avg     0.8660    0.8520    0.8574      3775\n",
      "weighted avg     0.9023    0.9033    0.9017      3775\n",
      "\n"
     ]
    }
   ],
   "source": [
    "print(\"각 클래스별 F1-Score의 평균: {0} \".format(result_f1.mean()))\n",
    "print(confusion_matrix(y_true, y_pred))\n",
    "print(classification_report(y_true, y_pred, digits=4))"
   ]
  }
 ],
 "metadata": {
  "kernelspec": {
   "display_name": "Python 3 (ipykernel)",
   "language": "python",
   "name": "python3"
  },
  "language_info": {
   "codemirror_mode": {
    "name": "ipython",
    "version": 3
   },
   "file_extension": ".py",
   "mimetype": "text/x-python",
   "name": "python",
   "nbconvert_exporter": "python",
   "pygments_lexer": "ipython3",
   "version": "3.9.12"
  }
 },
 "nbformat": 4,
 "nbformat_minor": 5
}
